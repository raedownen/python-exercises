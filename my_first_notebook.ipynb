{
 "cells": [
  {
   "cell_type": "code",
   "execution_count": 1,
   "id": "4c315ed0",
   "metadata": {},
   "outputs": [
    {
     "name": "stdout",
     "output_type": "stream",
     "text": [
      "Hello World\n"
     ]
    }
   ],
   "source": [
    "greeting = 'Hello World'\n",
    "print(greeting)"
   ]
  },
  {
   "cell_type": "code",
   "execution_count": 2,
   "id": "711cffd0",
   "metadata": {},
   "outputs": [
    {
     "data": {
      "text/plain": [
       "12.0"
      ]
     },
     "execution_count": 2,
     "metadata": {},
     "output_type": "execute_result"
    }
   ],
   "source": [
    "2*6+4/2-2"
   ]
  },
  {
   "cell_type": "code",
   "execution_count": 6,
   "id": "7552d468",
   "metadata": {},
   "outputs": [
    {
     "name": "stdout",
     "output_type": "stream",
     "text": [
      "Bad\n"
     ]
    }
   ],
   "source": [
    "migraine_status = 'Bad'\n",
    "print(migraine_status)"
   ]
  },
  {
   "cell_type": "code",
   "execution_count": 2,
   "id": "d2cc4744",
   "metadata": {},
   "outputs": [
    {
     "ename": "AttributeError",
     "evalue": "'tuple' object has no attribute 'upper'",
     "output_type": "error",
     "traceback": [
      "\u001b[0;31m---------------------------------------------------------------------------\u001b[0m",
      "\u001b[0;31mAttributeError\u001b[0m                            Traceback (most recent call last)",
      "Input \u001b[0;32mIn [2]\u001b[0m, in \u001b[0;36m<cell line: 1>\u001b[0;34m()\u001b[0m\n\u001b[0;32m----> 1\u001b[0m uppercased_fruits \u001b[38;5;241m=\u001b[39m [\u001b[43m(\u001b[49m\u001b[38;5;124;43m'\u001b[39;49m\u001b[38;5;124;43mmango\u001b[39;49m\u001b[38;5;124;43m'\u001b[39;49m\u001b[43m,\u001b[49m\u001b[43m \u001b[49m\u001b[38;5;124;43m'\u001b[39;49m\u001b[38;5;124;43mkiwi\u001b[39;49m\u001b[38;5;124;43m'\u001b[39;49m\u001b[43m,\u001b[49m\u001b[43m \u001b[49m\u001b[38;5;124;43m'\u001b[39;49m\u001b[38;5;124;43mstrawberry\u001b[39;49m\u001b[38;5;124;43m'\u001b[39;49m\u001b[43m,\u001b[49m\u001b[43m \u001b[49m\u001b[38;5;124;43m'\u001b[39;49m\u001b[38;5;124;43mguava\u001b[39;49m\u001b[38;5;124;43m'\u001b[39;49m\u001b[43m,\u001b[49m\u001b[43m \u001b[49m\u001b[38;5;124;43m'\u001b[39;49m\u001b[38;5;124;43mpineapple\u001b[39;49m\u001b[38;5;124;43m'\u001b[39;49m\u001b[43m,\u001b[49m\u001b[43m \u001b[49m\u001b[38;5;124;43m'\u001b[39;49m\u001b[38;5;124;43mmandarin orange\u001b[39;49m\u001b[38;5;124;43m'\u001b[39;49m\u001b[43m)\u001b[49m\u001b[38;5;241;43m.\u001b[39;49m\u001b[43mupper\u001b[49m]\n",
      "\u001b[0;31mAttributeError\u001b[0m: 'tuple' object has no attribute 'upper'"
     ]
    }
   ],
   "source": [
    "uppercased_fruits = [('mango', 'kiwi', 'strawberry', 'guava', 'pineapple', 'mandarin orange').upper]"
   ]
  },
  {
   "cell_type": "code",
   "execution_count": null,
   "id": "991da801",
   "metadata": {},
   "outputs": [],
   "source": [
    "[x.upper() for x in [\"a\",\"b\",\"c\"]]"
   ]
  },
  {
   "cell_type": "code",
   "execution_count": 3,
   "id": "926983eb",
   "metadata": {},
   "outputs": [],
   "source": [
    "fruits = ['mango', 'kiwi', 'strawberry', 'guava', 'pineapple', 'mandarin orange']"
   ]
  },
  {
   "cell_type": "code",
   "execution_count": 8,
   "id": "29f950f1",
   "metadata": {},
   "outputs": [],
   "source": [
    "uppercased_fruits = [fruits.upper() for fruits in ['mango', 'kiwi', 'strawberry', 'guava', 'pineapple', 'mandarin orange']]"
   ]
  },
  {
   "cell_type": "code",
   "execution_count": 9,
   "id": "3a6ae317",
   "metadata": {},
   "outputs": [
    {
     "data": {
      "text/plain": [
       "['MANGO', 'KIWI', 'STRAWBERRY', 'GUAVA', 'PINEAPPLE', 'MANDARIN ORANGE']"
      ]
     },
     "execution_count": 9,
     "metadata": {},
     "output_type": "execute_result"
    }
   ],
   "source": [
    "uppercased_fruits"
   ]
  },
  {
   "cell_type": "code",
   "execution_count": 10,
   "id": "1373b978",
   "metadata": {},
   "outputs": [],
   "source": [
    "fruits = ['mango', 'kiwi', 'strawberry', 'guava', 'pineapple', 'mandarin orange']"
   ]
  },
  {
   "cell_type": "code",
   "execution_count": 11,
   "id": "adb94dc5",
   "metadata": {},
   "outputs": [],
   "source": [
    "capitalized_fruits = [fruits.capitalize() for fruits in ['mango', 'kiwi', 'strawberry', 'guava', 'pineapple', 'mandarin orange']]"
   ]
  },
  {
   "cell_type": "code",
   "execution_count": 12,
   "id": "131f5db6",
   "metadata": {},
   "outputs": [
    {
     "data": {
      "text/plain": [
       "['MANGO', 'KIWI', 'STRAWBERRY', 'GUAVA', 'PINEAPPLE', 'MANDARIN ORANGE']"
      ]
     },
     "execution_count": 12,
     "metadata": {},
     "output_type": "execute_result"
    }
   ],
   "source": [
    "capitalized_fruits"
   ]
  },
  {
   "cell_type": "code",
   "execution_count": null,
   "id": "9bbf3401",
   "metadata": {},
   "outputs": [],
   "source": [
    "fruits_with_more_than_two_vowels = [fruits.XXXX() for fruits in [['mango', 'kiwi', 'strawberry', 'guava', 'pineapple', 'mandarin orange']]]"
   ]
  },
  {
   "cell_type": "code",
   "execution_count": null,
   "id": "26d32723",
   "metadata": {},
   "outputs": [],
   "source": [
    "def has_vowels(string):\n",
    "  return \"a\" in string or \"e\" in string or \"i\" in string or \"o\" in string or \"u\" in string or \"A\" in string or \"E\" in string or \"I\" in string or \"O\" in string or \"U\" in string\n",
    "  for letter in string:\n",
    "    if has_vowels(string):\n",
    "      return True\n",
    "  return False"
   ]
  },
  {
   "cell_type": "code",
   "execution_count": 14,
   "id": "7363ef49",
   "metadata": {},
   "outputs": [
    {
     "data": {
      "text/plain": [
       "True"
      ]
     },
     "execution_count": 14,
     "metadata": {},
     "output_type": "execute_result"
    }
   ],
   "source": [
    "def has_vowels(string):\n",
    "  return \"a\" in string or \"e\" in string or \"i\" in string or \"o\" in string or \"u\" in string or \"A\" in string or \"E\" in string or \"I\" in string or \"O\" in string or \"U\" in string\n",
    "  for letter in string:\n",
    "    if has_vowels(string):\n",
    "      return True\n",
    "  return False\n",
    "\n",
    "has_vowels('mango')"
   ]
  },
  {
   "cell_type": "code",
   "execution_count": null,
   "id": "b7202b37",
   "metadata": {},
   "outputs": [],
   "source": [
    "list_of_words = ['let', 'the', 'sun', 'shine']\n",
    "conditional_letters = [l for word in list_of_words if word != 'sun' for l in word if l not in 'aeiou']\n",
    "['l', 't', 't', 'h', 's', 'h', 'n']"
   ]
  },
  {
   "cell_type": "code",
   "execution_count": 17,
   "id": "3da4711b",
   "metadata": {
    "scrolled": true
   },
   "outputs": [
    {
     "ename": "SyntaxError",
     "evalue": "invalid syntax (208011440.py, line 3)",
     "output_type": "error",
     "traceback": [
      "\u001b[0;36m  Input \u001b[0;32mIn [17]\u001b[0;36m\u001b[0m\n\u001b[0;31m    fruits_with_more_than_two_vowels = [for vowel in fruits]\u001b[0m\n\u001b[0m                                        ^\u001b[0m\n\u001b[0;31mSyntaxError\u001b[0m\u001b[0;31m:\u001b[0m invalid syntax\n"
     ]
    }
   ],
   "source": [
    "vowel = \"a\" in string or \"e\" in string or \"i\" in string or \"o\" in string or \"u\" in string or \"A\" in string or \"E\" in string or \"I\" in string or \"O\" in string or \"U\" in string\n",
    "fruits = ['mango', 'kiwi', 'strawberry', 'guava', 'pineapple', 'mandarin orange']\n",
    "fruits_with_more_than_two_vowels = [if vowel in fruits]\n"
   ]
  },
  {
   "cell_type": "code",
   "execution_count": null,
   "id": "f874da11",
   "metadata": {},
   "outputs": [],
   "source": [
    "capitalized_fruits = [fruits.capitalize() for fruits in ['mango', 'kiwi', 'strawberry', 'guava', 'pineapple', 'mandarin orange']]"
   ]
  },
  {
   "cell_type": "code",
   "execution_count": 18,
   "id": "8a3f22cf",
   "metadata": {},
   "outputs": [],
   "source": [
    "fruits = ['mango', 'kiwi', 'strawberry', 'guava', 'pineapple', 'mandarin orange']\n",
    "fruits_with_more_than_two_vowels = [f for word in fruits if word != 'mango' for f in word if f not in 'aeiou']"
   ]
  },
  {
   "cell_type": "code",
   "execution_count": null,
   "id": "c3271700",
   "metadata": {},
   "outputs": [],
   "source": [
    "consonants = [l for l in letters if l not in 'aeiou']"
   ]
  },
  {
   "cell_type": "code",
   "execution_count": null,
   "id": "b5217219",
   "metadata": {},
   "outputs": [],
   "source": [
    "output = [ expression for element in list_1 if condition ]"
   ]
  },
  {
   "cell_type": "code",
   "execution_count": 19,
   "id": "7e6be607",
   "metadata": {},
   "outputs": [
    {
     "ename": "SyntaxError",
     "evalue": "invalid syntax (1728670618.py, line 3)",
     "output_type": "error",
     "traceback": [
      "\u001b[0;36m  Input \u001b[0;32mIn [19]\u001b[0;36m\u001b[0m\n\u001b[0;31m    for fruit in fruits\u001b[0m\n\u001b[0m                       ^\u001b[0m\n\u001b[0;31mSyntaxError\u001b[0m\u001b[0;31m:\u001b[0m invalid syntax\n"
     ]
    }
   ],
   "source": [
    "ç\n",
    "fruits = ['mango', 'kiwi', 'strawberry', 'guava', 'pineapple', 'mandarin orange']\n",
    "for fruit in fruits\n",
    "if vowel in fruit\n",
    "append fruits_with_more_than_two_vowels"
   ]
  },
  {
   "cell_type": "code",
   "execution_count": 21,
   "id": "4d5caf2b",
   "metadata": {},
   "outputs": [
    {
     "data": {
      "text/plain": [
       "['mango', 'guava']"
      ]
     },
     "execution_count": 21,
     "metadata": {},
     "output_type": "execute_result"
    }
   ],
   "source": [
    "fruits = ['mango', 'kiwi', 'strawberry', 'guava', 'pineapple', 'mandarin orange']\n",
    "[x for x in fruits if len(x) == 5]"
   ]
  },
  {
   "cell_type": "code",
   "execution_count": 22,
   "id": "fd89fdee",
   "metadata": {},
   "outputs": [
    {
     "data": {
      "text/plain": [
       "['kiwi']"
      ]
     },
     "execution_count": 22,
     "metadata": {},
     "output_type": "execute_result"
    }
   ],
   "source": [
    "fruits = ['mango', 'kiwi', 'strawberry', 'guava', 'pineapple', 'mandarin orange']\n",
    "[x for x in fruits if len(x) < 5]"
   ]
  },
  {
   "cell_type": "code",
   "execution_count": 23,
   "id": "d9a280a6",
   "metadata": {},
   "outputs": [
    {
     "data": {
      "text/plain": [
       "6"
      ]
     },
     "execution_count": 23,
     "metadata": {},
     "output_type": "execute_result"
    }
   ],
   "source": [
    "fruits = ['mango', 'kiwi', 'strawberry', 'guava', 'pineapple', 'mandarin orange']\n",
    "len(fruits)"
   ]
  },
  {
   "cell_type": "code",
   "execution_count": 25,
   "id": "5252faf4",
   "metadata": {},
   "outputs": [
    {
     "ename": "SyntaxError",
     "evalue": "invalid syntax (4061968252.py, line 2)",
     "output_type": "error",
     "traceback": [
      "\u001b[0;36m  Input \u001b[0;32mIn [25]\u001b[0;36m\u001b[0m\n\u001b[0;31m    for i in range(len(fruits))\u001b[0m\n\u001b[0m                               ^\u001b[0m\n\u001b[0;31mSyntaxError\u001b[0m\u001b[0;31m:\u001b[0m invalid syntax\n"
     ]
    }
   ],
   "source": [
    "fruits = ['mango', 'kiwi', 'strawberry', 'guava', 'pineapple', 'mandarin orange']\n",
    "for i in range(len(fruits))"
   ]
  },
  {
   "cell_type": "code",
   "execution_count": 27,
   "id": "7d1e1a6e",
   "metadata": {},
   "outputs": [
    {
     "name": "stdout",
     "output_type": "stream",
     "text": [
      "6\n",
      "3\n",
      "1\n"
     ]
    }
   ],
   "source": [
    "elements = [\"xxxxxx\", \"yyy\", \"z\"]\n",
    "for element in elements:\n",
    "    print(len(element))\n"
   ]
  },
  {
   "cell_type": "code",
   "execution_count": 29,
   "id": "55b4b0dc",
   "metadata": {},
   "outputs": [
    {
     "name": "stdout",
     "output_type": "stream",
     "text": [
      "5\n",
      "4\n",
      "10\n",
      "5\n",
      "9\n",
      "15\n"
     ]
    }
   ],
   "source": [
    "fruits = ['mango', 'kiwi', 'strawberry', 'guava', 'pineapple', 'mandarin orange']\n",
    "for fruit in fruits:\n",
    "    print(len(fruit))"
   ]
  },
  {
   "cell_type": "code",
   "execution_count": null,
   "id": "7dda9caf",
   "metadata": {},
   "outputs": [],
   "source": [
    "fruits = ['mango', 'kiwi', 'strawberry', 'guava', 'pineapple', 'mandarin orange']\n",
    "for fruit in fruits:\n",
    "    print(len(fruit))"
   ]
  },
  {
   "cell_type": "code",
   "execution_count": null,
   "id": "dd9419ae",
   "metadata": {},
   "outputs": [],
   "source": [
    "numbers = [2, 3, 4, 5, 6, 7, 8, 9, 10, 11, 13, 17, 19, 23, 256, -8, -4, -2, 5, -9]\n"
   ]
  },
  {
   "cell_type": "code",
   "execution_count": 30,
   "id": "ff2b6e31",
   "metadata": {},
   "outputs": [
    {
     "data": {
      "text/plain": [
       "['strawberry', 'pineapple', 'mandarin orange']"
      ]
     },
     "execution_count": 30,
     "metadata": {},
     "output_type": "execute_result"
    }
   ],
   "source": [
    "fruits = ['mango', 'kiwi', 'strawberry', 'guava', 'pineapple', 'mandarin orange']\n",
    "[x for x in fruits if len(x) > 5]"
   ]
  },
  {
   "cell_type": "code",
   "execution_count": 31,
   "id": "d82d0007",
   "metadata": {},
   "outputs": [
    {
     "data": {
      "text/plain": [
       "True"
      ]
     },
     "execution_count": 31,
     "metadata": {},
     "output_type": "execute_result"
    }
   ],
   "source": [
    "True or '32'"
   ]
  },
  {
   "cell_type": "code",
   "execution_count": 32,
   "id": "1f9af435",
   "metadata": {},
   "outputs": [
    {
     "data": {
      "text/plain": [
       "45"
      ]
     },
     "execution_count": 32,
     "metadata": {},
     "output_type": "execute_result"
    }
   ],
   "source": [
    "daily_rental = 3\n",
    "daily_rental * 3 * 5 * 1"
   ]
  },
  {
   "cell_type": "code",
   "execution_count": 35,
   "id": "544de0c6",
   "metadata": {},
   "outputs": [
    {
     "ename": "SyntaxError",
     "evalue": "cannot assign to operator (1915150032.py, line 4)",
     "output_type": "error",
     "traceback": [
      "\u001b[0;36m  Input \u001b[0;32mIn [35]\u001b[0;36m\u001b[0m\n\u001b[0;31m    ghr * ghw = gwp\u001b[0m\n\u001b[0m    ^\u001b[0m\n\u001b[0;31mSyntaxError\u001b[0m\u001b[0;31m:\u001b[0m cannot assign to operator\n"
     ]
    }
   ],
   "source": [
    "google_hourly_rate = ghr\n",
    "google_hours_worked = ghw\n",
    "google_weekly_pay = gwp\n",
    "ghr * ghw = gwp\n",
    "ghr == 400\n",
    "ghw == 6\n"
   ]
  },
  {
   "cell_type": "code",
   "execution_count": null,
   "id": "e1a9ca2e",
   "metadata": {},
   "outputs": [],
   "source": [
    "#Google ghourly_rate == 400, ghours_worked == 6, ghourly_rate * ghours_worked == gweekly_pay\n",
    "\n",
    "#Amazon ahourly_rate == 380, ahours_worked == 4, ahourly_rate * ahours_worked == aweekly_pay\n",
    "\n",
    "#Facebook fhourly_rate == 350, fhours_worked == 10, fhourly_rate * fhours_worked == fweekly_pay\n",
    "\n",
    "#gweekly_pay + aweekly_pay + fweekly_pay == gross_pay "
   ]
  },
  {
   "cell_type": "code",
   "execution_count": 45,
   "id": "a0c4701f",
   "metadata": {},
   "outputs": [],
   "source": [
    "g_rate = 400\n",
    "am_rate =380\n",
    "fb_rate = 350\n",
    "\n",
    "g_hours = 6\n",
    "am_hours = 4\n",
    "fb_hours = 10\n",
    "\n",
    "g_pay = g_rate * g_hours\n",
    "am_pay = am_rate * am_hours\n",
    "fb_pay = fb_rate * fb_hours\n",
    "\n",
    "paycheck = g_pay + am_pay + fb_pay"
   ]
  },
  {
   "cell_type": "code",
   "execution_count": 46,
   "id": "7a218b4e",
   "metadata": {},
   "outputs": [
    {
     "data": {
      "text/plain": [
       "7420"
      ]
     },
     "execution_count": 46,
     "metadata": {},
     "output_type": "execute_result"
    }
   ],
   "source": [
    "paycheck"
   ]
  },
  {
   "cell_type": "code",
   "execution_count": 54,
   "id": "97b82d34",
   "metadata": {},
   "outputs": [],
   "source": [
    "offer_active = True\n",
    "premium_member = False\n",
    "more_than_two = True\n",
    "product_offer = (premium_member or more_than_two) and offer_active"
   ]
  },
  {
   "cell_type": "code",
   "execution_count": 55,
   "id": "53d98b83",
   "metadata": {},
   "outputs": [
    {
     "data": {
      "text/plain": [
       "True"
      ]
     },
     "execution_count": 55,
     "metadata": {},
     "output_type": "execute_result"
    }
   ],
   "source": [
    "product_offer"
   ]
  },
  {
   "cell_type": "raw",
   "id": "43a398a3",
   "metadata": {},
   "source": [
    "total_rate = (little_mer + herc + bro) * price_rate"
   ]
  },
  {
   "cell_type": "code",
   "execution_count": 37,
   "id": "b5f722fb",
   "metadata": {},
   "outputs": [
    {
     "data": {
      "text/plain": [
       "True"
      ]
     },
     "execution_count": 37,
     "metadata": {},
     "output_type": "execute_result"
    }
   ],
   "source": [
    "class_has_space = True\n",
    "schedule_has_time = True\n",
    "enrollment = class_has_space and schedule_has_time\n",
    "enrollment"
   ]
  },
  {
   "cell_type": "code",
   "execution_count": 38,
   "id": "8f6f3e2c",
   "metadata": {},
   "outputs": [
    {
     "ename": "SyntaxError",
     "evalue": "invalid syntax (542250201.py, line 1)",
     "output_type": "error",
     "traceback": [
      "\u001b[0;36m  Input \u001b[0;32mIn [38]\u001b[0;36m\u001b[0m\n\u001b[0;31m    product_offer = offer not expired and product_amout > 2 or premium-member\u001b[0m\n\u001b[0m                              ^\u001b[0m\n\u001b[0;31mSyntaxError\u001b[0m\u001b[0;31m:\u001b[0m invalid syntax\n"
     ]
    }
   ],
   "source": [
    "product_offer = offer not expired = Trueand product_amout > 2 or premium-member\n",
    "product_offer"
   ]
  },
  {
   "cell_type": "code",
   "execution_count": null,
   "id": "473f2433",
   "metadata": {},
   "outputs": [],
   "source": [
    "premium_member = True\n",
    "more_than_two_items = True\n",
    "premium_member = True"
   ]
  },
  {
   "cell_type": "code",
   "execution_count": 39,
   "id": "5b65a6a6",
   "metadata": {},
   "outputs": [],
   "source": [
    "class_has_space = True\n",
    "schedule_has_time = True\n",
    "enrollment = class_has_space and schedule_has_time"
   ]
  },
  {
   "cell_type": "code",
   "execution_count": 40,
   "id": "d31a75d6",
   "metadata": {},
   "outputs": [
    {
     "data": {
      "text/plain": [
       "True"
      ]
     },
     "execution_count": 40,
     "metadata": {},
     "output_type": "execute_result"
    }
   ],
   "source": [
    "enrollment"
   ]
  },
  {
   "cell_type": "code",
   "execution_count": 41,
   "id": "1aa62b23",
   "metadata": {},
   "outputs": [],
   "source": [
    "class_has_space = False\n",
    "schedule_has_time = True\n",
    "enrollment = class_has_space and schedule_has_time"
   ]
  },
  {
   "cell_type": "code",
   "execution_count": 42,
   "id": "3c5a4934",
   "metadata": {},
   "outputs": [
    {
     "data": {
      "text/plain": [
       "False"
      ]
     },
     "execution_count": 42,
     "metadata": {},
     "output_type": "execute_result"
    }
   ],
   "source": [
    "enrollment"
   ]
  },
  {
   "cell_type": "code",
   "execution_count": null,
   "id": "07c74ba1",
   "metadata": {},
   "outputs": [],
   "source": [
    "#4. You have rented some movies for your kids: The little mermaid (for 3 days), \n",
    "#Brother Bear (for 5 days, they love it), and Hercules (1 day, you don't know yet \n",
    "#if they're going to like it). If price for a movie per day is 3 dollars, how much \n",
    "#will you have to pay? daily_rental = 3, daily_rental * 3 * 5 * 1"
   ]
  },
  {
   "cell_type": "code",
   "execution_count": 43,
   "id": "8f6e51b0",
   "metadata": {},
   "outputs": [],
   "source": [
    "mer = 3\n",
    "bro = 5\n",
    "herc = 1\n",
    "price_rate = 3\n",
    "total_rate = (mer + herc + bro) * price_rate"
   ]
  },
  {
   "cell_type": "code",
   "execution_count": 44,
   "id": "81ede42b",
   "metadata": {},
   "outputs": [
    {
     "data": {
      "text/plain": [
       "27"
      ]
     },
     "execution_count": 44,
     "metadata": {},
     "output_type": "execute_result"
    }
   ],
   "source": [
    "total_rate"
   ]
  },
  {
   "cell_type": "code",
   "execution_count": 71,
   "id": "bb064951",
   "metadata": {},
   "outputs": [],
   "source": [
    "vowel = 'a'\n",
    "fruits = ['mango', 'kiwi', 'strawberry', 'guava', 'pineapple', 'mandarin orange']\n",
    "for fruit in fruits:\n",
    "    if vowel in fruits:\n",
    "        print()"
   ]
  },
  {
   "cell_type": "code",
   "execution_count": 72,
   "id": "6471d131",
   "metadata": {},
   "outputs": [],
   "source": [
    "even_numbers = [n for n in range(1,11) if n % 2 == 0]"
   ]
  },
  {
   "cell_type": "code",
   "execution_count": 73,
   "id": "74f3538b",
   "metadata": {},
   "outputs": [
    {
     "data": {
      "text/plain": [
       "[2, 4, 6, 8, 10]"
      ]
     },
     "execution_count": 73,
     "metadata": {},
     "output_type": "execute_result"
    }
   ],
   "source": [
    "even_numbers"
   ]
  },
  {
   "cell_type": "code",
   "execution_count": 74,
   "id": "f919861e",
   "metadata": {},
   "outputs": [],
   "source": [
    "odd_numbers = [n for n in range(1,11) if n % 2 != 0]"
   ]
  },
  {
   "cell_type": "code",
   "execution_count": 75,
   "id": "ad6e5e1a",
   "metadata": {},
   "outputs": [
    {
     "data": {
      "text/plain": [
       "[1, 3, 5, 7, 9]"
      ]
     },
     "execution_count": 75,
     "metadata": {},
     "output_type": "execute_result"
    }
   ],
   "source": [
    "odd_numbers"
   ]
  },
  {
   "cell_type": "code",
   "execution_count": 82,
   "id": "f297e0ee",
   "metadata": {},
   "outputs": [],
   "source": [
    "positive_numbers = [n for n in range(-11,11) if n > 0]"
   ]
  },
  {
   "cell_type": "code",
   "execution_count": 83,
   "id": "e4c18598",
   "metadata": {},
   "outputs": [
    {
     "data": {
      "text/plain": [
       "[1, 2, 3, 4, 5, 6, 7, 8, 9, 10]"
      ]
     },
     "execution_count": 83,
     "metadata": {},
     "output_type": "execute_result"
    }
   ],
   "source": [
    "positive_numbers"
   ]
  },
  {
   "cell_type": "code",
   "execution_count": 84,
   "id": "bbf5734b",
   "metadata": {},
   "outputs": [],
   "source": [
    "negative_numbers = [n for n in range(-11,11) if n < 0]"
   ]
  },
  {
   "cell_type": "code",
   "execution_count": 85,
   "id": "e60823bf",
   "metadata": {},
   "outputs": [
    {
     "data": {
      "text/plain": [
       "[-11, -10, -9, -8, -7, -6, -5, -4, -3, -2, -1]"
      ]
     },
     "execution_count": 85,
     "metadata": {},
     "output_type": "execute_result"
    }
   ],
   "source": [
    "negative_numbers"
   ]
  },
  {
   "cell_type": "code",
   "execution_count": 119,
   "id": "c0d0e96f",
   "metadata": {},
   "outputs": [],
   "source": [
    "more_than_two_numerals = [n for n in range(-20,20) if n < -9 or n > 9]"
   ]
  },
  {
   "cell_type": "code",
   "execution_count": 120,
   "id": "7a70ce52",
   "metadata": {},
   "outputs": [
    {
     "data": {
      "text/plain": [
       "[-20,\n",
       " -19,\n",
       " -18,\n",
       " -17,\n",
       " -16,\n",
       " -15,\n",
       " -14,\n",
       " -13,\n",
       " -12,\n",
       " -11,\n",
       " -10,\n",
       " 10,\n",
       " 11,\n",
       " 12,\n",
       " 13,\n",
       " 14,\n",
       " 15,\n",
       " 16,\n",
       " 17,\n",
       " 18,\n",
       " 19]"
      ]
     },
     "execution_count": 120,
     "metadata": {},
     "output_type": "execute_result"
    }
   ],
   "source": [
    "more_than_two_numerals"
   ]
  },
  {
   "cell_type": "code",
   "execution_count": 117,
   "id": "39a6d8ef",
   "metadata": {},
   "outputs": [],
   "source": [
    "numbers_squared = [n * 2 for n in range(1,11)]"
   ]
  },
  {
   "cell_type": "code",
   "execution_count": 118,
   "id": "fc876375",
   "metadata": {},
   "outputs": [
    {
     "data": {
      "text/plain": [
       "[2, 4, 6, 8, 10, 12, 14, 16, 18, 20]"
      ]
     },
     "execution_count": 118,
     "metadata": {},
     "output_type": "execute_result"
    }
   ],
   "source": [
    "numbers_squared"
   ]
  },
  {
   "cell_type": "code",
   "execution_count": 107,
   "id": "20cbce72",
   "metadata": {},
   "outputs": [],
   "source": [
    "odd_negative_numbers = [n for n in range(-11,11) if n < 0 and n % 2 != 0]"
   ]
  },
  {
   "cell_type": "code",
   "execution_count": 108,
   "id": "af6870b7",
   "metadata": {},
   "outputs": [
    {
     "data": {
      "text/plain": [
       "[-11, -9, -7, -5, -3, -1]"
      ]
     },
     "execution_count": 108,
     "metadata": {},
     "output_type": "execute_result"
    }
   ],
   "source": [
    "odd_negative_numbers"
   ]
  },
  {
   "cell_type": "code",
   "execution_count": 121,
   "id": "4af810bb",
   "metadata": {},
   "outputs": [],
   "source": [
    "numbers_plus_5 = [n + 5 for n in range(1,11)]"
   ]
  },
  {
   "cell_type": "code",
   "execution_count": 122,
   "id": "d9d9493b",
   "metadata": {},
   "outputs": [
    {
     "data": {
      "text/plain": [
       "[6, 7, 8, 9, 10, 11, 12, 13, 14, 15]"
      ]
     },
     "execution_count": 122,
     "metadata": {},
     "output_type": "execute_result"
    }
   ],
   "source": [
    "numbers_plus_5"
   ]
  },
  {
   "cell_type": "code",
   "execution_count": 125,
   "id": "e19e9fbf",
   "metadata": {},
   "outputs": [],
   "source": [
    "# Exercise 9 - Make a variable named fruits_with_letter_a that contains a list of only the fruits \n",
    "# that contain the letter \"a\"\n",
    "fruits = ['mango', 'kiwi', 'strawberry', 'guava', 'pineapple', 'mandarin orange']\n",
    "fruits_with_letter_a = [fruit for fruit in fruits if 'a' in fruit]"
   ]
  },
  {
   "cell_type": "code",
   "execution_count": 126,
   "id": "67a8f06c",
   "metadata": {},
   "outputs": [
    {
     "data": {
      "text/plain": [
       "['mango', 'strawberry', 'guava', 'pineapple', 'mandarin orange']"
      ]
     },
     "execution_count": 126,
     "metadata": {},
     "output_type": "execute_result"
    }
   ],
   "source": [
    "fruits_with_letter_a"
   ]
  },
  {
   "cell_type": "code",
   "execution_count": 128,
   "id": "1950f400",
   "metadata": {},
   "outputs": [],
   "source": [
    "fruits = ['mango', 'kiwi', 'strawberry', 'guava', 'pineapple', 'mandarin orange']\n",
    "fruits_with_vowels = [fruit for fruit in fruits if 'a'and 'e' in fruit]"
   ]
  },
  {
   "cell_type": "code",
   "execution_count": 129,
   "id": "a8fa590b",
   "metadata": {},
   "outputs": [
    {
     "data": {
      "text/plain": [
       "['strawberry', 'pineapple', 'mandarin orange']"
      ]
     },
     "execution_count": 129,
     "metadata": {},
     "output_type": "execute_result"
    }
   ],
   "source": [
    "fruits_with_vowels"
   ]
  },
  {
   "cell_type": "code",
   "execution_count": null,
   "id": "dacfd47f",
   "metadata": {},
   "outputs": [],
   "source": []
  },
  {
   "cell_type": "code",
   "execution_count": 130,
   "id": "b7133acc",
   "metadata": {},
   "outputs": [],
   "source": [
    "fruits = ['mango', 'kiwi', 'strawberry', 'guava', 'pineapple', 'mandarin orange']\n",
    "fruits_with_vowels = [fruit for fruit in fruits if 'a'and 'u' in fruit]"
   ]
  },
  {
   "cell_type": "code",
   "execution_count": 131,
   "id": "a8867ab9",
   "metadata": {},
   "outputs": [
    {
     "data": {
      "text/plain": [
       "['guava']"
      ]
     },
     "execution_count": 131,
     "metadata": {},
     "output_type": "execute_result"
    }
   ],
   "source": [
    "fruits_with_vowels"
   ]
  },
  {
   "cell_type": "code",
   "execution_count": 135,
   "id": "ec97a188",
   "metadata": {},
   "outputs": [],
   "source": [
    "vowels = 'a', 'e', 'i', 'o', 'u'\n",
    "fruits = ['mango', 'kiwi', 'strawberry', 'guava', 'pineapple', 'mandarin orange']\n",
    "fruits_with_2_vowels = [fruit for fruit in fruits if vowels == 2]"
   ]
  },
  {
   "cell_type": "code",
   "execution_count": 136,
   "id": "dbf6a229",
   "metadata": {},
   "outputs": [
    {
     "data": {
      "text/plain": [
       "[]"
      ]
     },
     "execution_count": 136,
     "metadata": {},
     "output_type": "execute_result"
    }
   ],
   "source": [
    "fruits_with_2_vowels"
   ]
  },
  {
   "cell_type": "code",
   "execution_count": 138,
   "id": "6f40d19c",
   "metadata": {},
   "outputs": [],
   "source": [
    "# Run this code to create data for the next two questions\n",
    "book = {\n",
    "    \"title\": \"Genetic Algorithms and Machine Learning for Programmers\",\n",
    "    \"price\": 36.99,\n",
    "    \"author\": \"Frances Buontempo\"\n",
    "}"
   ]
  },
  {
   "cell_type": "code",
   "execution_count": 139,
   "id": "3e6aa38b",
   "metadata": {},
   "outputs": [],
   "source": [
    "# Exercise 89\n",
    "# Write a function named get_price that takes in a dictionary and returns the price\n",
    "def get_price(book):\n",
    "  return dict.get(\"price\")\n"
   ]
  },
  {
   "cell_type": "code",
   "execution_count": 140,
   "id": "d2fe1025",
   "metadata": {},
   "outputs": [
    {
     "ename": "TypeError",
     "evalue": "descriptor 'get' for 'dict' objects doesn't apply to a 'str' object",
     "output_type": "error",
     "traceback": [
      "\u001b[0;31m---------------------------------------------------------------------------\u001b[0m",
      "\u001b[0;31mTypeError\u001b[0m                                 Traceback (most recent call last)",
      "Input \u001b[0;32mIn [140]\u001b[0m, in \u001b[0;36m<cell line: 1>\u001b[0;34m()\u001b[0m\n\u001b[0;32m----> 1\u001b[0m \u001b[43mget_price\u001b[49m\u001b[43m(\u001b[49m\u001b[43mbook\u001b[49m\u001b[43m)\u001b[49m\n",
      "Input \u001b[0;32mIn [139]\u001b[0m, in \u001b[0;36mget_price\u001b[0;34m(book)\u001b[0m\n\u001b[1;32m      3\u001b[0m \u001b[38;5;28;01mdef\u001b[39;00m \u001b[38;5;21mget_price\u001b[39m(book):\n\u001b[0;32m----> 4\u001b[0m   \u001b[38;5;28;01mreturn\u001b[39;00m \u001b[38;5;28;43mdict\u001b[39;49m\u001b[38;5;241;43m.\u001b[39;49m\u001b[43mget\u001b[49m\u001b[43m(\u001b[49m\u001b[38;5;124;43m\"\u001b[39;49m\u001b[38;5;124;43mprice\u001b[39;49m\u001b[38;5;124;43m\"\u001b[39;49m\u001b[43m)\u001b[49m\n",
      "\u001b[0;31mTypeError\u001b[0m: descriptor 'get' for 'dict' objects doesn't apply to a 'str' object"
     ]
    }
   ],
   "source": [
    "get_price(book)"
   ]
  },
  {
   "cell_type": "code",
   "execution_count": null,
   "id": "84683ab1",
   "metadata": {},
   "outputs": [],
   "source": []
  },
  {
   "cell_type": "code",
   "execution_count": null,
   "id": "7ef00c7b",
   "metadata": {},
   "outputs": [],
   "source": []
  },
  {
   "cell_type": "code",
   "execution_count": null,
   "id": "9ea0dc1f",
   "metadata": {},
   "outputs": [],
   "source": []
  },
  {
   "cell_type": "code",
   "execution_count": null,
   "id": "571a9171",
   "metadata": {},
   "outputs": [],
   "source": []
  },
  {
   "cell_type": "code",
   "execution_count": null,
   "id": "b06aaf02",
   "metadata": {},
   "outputs": [],
   "source": []
  },
  {
   "cell_type": "code",
   "execution_count": null,
   "id": "ac1f93f8",
   "metadata": {},
   "outputs": [],
   "source": []
  }
 ],
 "metadata": {
  "kernelspec": {
   "display_name": "Python 3 (ipykernel)",
   "language": "python",
   "name": "python3"
  },
  "language_info": {
   "codemirror_mode": {
    "name": "ipython",
    "version": 3
   },
   "file_extension": ".py",
   "mimetype": "text/x-python",
   "name": "python",
   "nbconvert_exporter": "python",
   "pygments_lexer": "ipython3",
   "version": "3.9.12"
  }
 },
 "nbformat": 4,
 "nbformat_minor": 5
}

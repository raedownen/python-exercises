{
 "cells": [
  {
   "cell_type": "code",
   "execution_count": 2,
   "id": "c5ad9a2d",
   "metadata": {},
   "outputs": [
    {
     "name": "stdout",
     "output_type": "stream",
     "text": [
      "What day is today?:\n",
      "Sunday\n",
      "It is definitely not Monday!\n"
     ]
    }
   ],
   "source": [
    "#1.Conditional Basics\n",
    "\n",
    "#a. prompt the user for a day of the week, print out whether the day is Monday or not\n",
    "day_of_week = input(\"What day is today?:\\n\").lower()\n",
    "if day_of_week == \"Monday\":\n",
    "    print(\"Yes, it is Monday!\")\n",
    "else:\n",
    "    print(\"It is definitely not Monday!\")\n",
    "    \n"
   ]
  },
  {
   "cell_type": "code",
   "execution_count": 14,
   "id": "5887c3ed",
   "metadata": {},
   "outputs": [
    {
     "name": "stdout",
     "output_type": "stream",
     "text": [
      "What day is today? Saturday\n",
      "It is definitely the weekend!\n"
     ]
    }
   ],
   "source": [
    "# 1b. prompt the user for a day of the week, print out whether the day is a weekday or a weekend\n",
    "day = input(\"What day is today? \")\n",
    "if day in ['Monday', 'Tuesday', 'Wednesday', 'Thursday','Friday']:\n",
    "    print(\"Yes, it is weekday!\")\n",
    "else:\n",
    "    print(\"It is definitely the weekend!\")\n",
    "\n",
    "\n"
   ]
  },
  {
   "cell_type": "code",
   "execution_count": 6,
   "id": "b4f3210d",
   "metadata": {},
   "outputs": [
    {
     "name": "stdout",
     "output_type": "stream",
     "text": [
      "What day is today?:\n",
      "Monday\n",
      "It is definitely the weekend!\n"
     ]
    }
   ],
   "source": [
    "#andrew king way\n",
    "day_of_week = input(\"What day is today?:\\n\")\n",
    "if day_of_week.lower() in ['Monday' or 'Tuesday' or 'Wednesday' or 'Thursday' or 'Friday']:\n",
    "    print(\"Yes, it is weekday!\")\n",
    "else:\n",
    "    print(\"It is definitely the weekend!\")\n"
   ]
  },
  {
   "cell_type": "code",
   "execution_count": 6,
   "id": "5062babe",
   "metadata": {},
   "outputs": [
    {
     "data": {
      "text/plain": [
       "7000"
      ]
     },
     "execution_count": 6,
     "metadata": {},
     "output_type": "execute_result"
    }
   ],
   "source": [
    "#1c. create variables and make up values for it \n",
    "#the number of hours worked in one week\n",
    "#the hourly rate\n",
    "#how much the week's paycheck will be\n",
    "#write the python code that calculates the weekly paycheck. You get paid time and a half if you work more than 40 hours\n",
    "weekly_hours = 40\n",
    "hourly_rate = 100\n",
    "overtime_hours = 20\n",
    "overtime_rate = 150\n",
    "weekly_paycheck = (weekly_hours * hourly_rate) + (overtime_hours * overtime_rate)\n",
    "weekly_paycheck"
   ]
  },
  {
   "cell_type": "code",
   "execution_count": 7,
   "id": "b3b1757e",
   "metadata": {},
   "outputs": [
    {
     "name": "stdout",
     "output_type": "stream",
     "text": [
      "5\n",
      "6\n",
      "7\n",
      "8\n",
      "9\n",
      "10\n",
      "11\n",
      "12\n",
      "13\n",
      "14\n",
      "15\n"
     ]
    }
   ],
   "source": [
    "#2. Loop Basics\n",
    "#a. While\n",
    "#Create an integer variable i with a value of 5. Create a while loop that runs so long as i is less than or equal to 15. \n",
    "# Each loop iteration, output the current value of i, then increment i by one.\n",
    "# initialize variable at 5 to start at 5\n",
    "#while starts the loop and while the condition is true is iterates \n",
    "#start is 5 and end is 15\n",
    "# while it is less than 15 it will iterate and then stop at 15\n",
    " #it prints each iterate + 1\n",
    "#i is short for items\n",
    "\n",
    "i = 5\n",
    "while i <= 15:\n",
    "\n",
    "    print(i)\n",
    "   \n",
    "    i += 1\n"
   ]
  },
  {
   "cell_type": "code",
   "execution_count": 17,
   "id": "c8a2f66d",
   "metadata": {},
   "outputs": [
    {
     "name": "stdout",
     "output_type": "stream",
     "text": [
      "0\n",
      "2\n",
      "4\n",
      "6\n",
      "8\n",
      "10\n",
      "12\n",
      "14\n",
      "16\n",
      "18\n",
      "20\n",
      "22\n",
      "24\n",
      "26\n",
      "28\n",
      "30\n",
      "32\n",
      "34\n",
      "36\n",
      "38\n",
      "40\n",
      "42\n",
      "44\n",
      "46\n",
      "48\n",
      "50\n",
      "52\n",
      "54\n",
      "56\n",
      "58\n",
      "60\n",
      "62\n",
      "64\n",
      "66\n",
      "68\n",
      "70\n",
      "72\n",
      "74\n",
      "76\n",
      "78\n",
      "80\n",
      "82\n",
      "84\n",
      "86\n",
      "88\n",
      "90\n",
      "92\n",
      "94\n",
      "96\n",
      "98\n",
      "100\n"
     ]
    }
   ],
   "source": [
    "#Create a while loop that will count by 2's starting with 0 and ending at 100. Follow each number with a new line.\n",
    "i = 0\n",
    "while i <= 100:\n",
    "    print(i)\n",
    "    i += 2\n"
   ]
  },
  {
   "cell_type": "code",
   "execution_count": 18,
   "id": "487a6985",
   "metadata": {},
   "outputs": [
    {
     "name": "stdout",
     "output_type": "stream",
     "text": [
      "100\n",
      "95\n",
      "90\n",
      "85\n",
      "80\n",
      "75\n",
      "70\n",
      "65\n",
      "60\n",
      "55\n",
      "50\n",
      "45\n",
      "40\n",
      "35\n",
      "30\n",
      "25\n",
      "20\n",
      "15\n",
      "10\n",
      "5\n",
      "0\n",
      "-5\n",
      "-10\n"
     ]
    }
   ],
   "source": [
    "#Alter your loop to count backwards by 5's from 100 to -10.\n",
    "i = 100\n",
    "while i >= -10:\n",
    "    print(i)\n",
    "    i -= 5"
   ]
  },
  {
   "cell_type": "code",
   "execution_count": 19,
   "id": "853c2730",
   "metadata": {},
   "outputs": [
    {
     "name": "stdout",
     "output_type": "stream",
     "text": [
      "2\n",
      "4\n",
      "16\n",
      "256\n",
      "65536\n"
     ]
    }
   ],
   "source": [
    "#Create a while loop that starts at 2, and displays the number squared on each line while the number is less than 1,000,000. Output should equal:\n",
    "\n",
    "i = 2\n",
    "\n",
    "while i < 1000000:\n",
    "    print(i)\n",
    "    i **= 2"
   ]
  },
  {
   "cell_type": "code",
   "execution_count": 22,
   "id": "5d9a8df7",
   "metadata": {},
   "outputs": [
    {
     "name": "stdout",
     "output_type": "stream",
     "text": [
      "100\n",
      "95\n",
      "90\n",
      "85\n",
      "80\n",
      "75\n",
      "70\n",
      "65\n",
      "60\n",
      "55\n",
      "50\n",
      "45\n",
      "40\n",
      "35\n",
      "30\n",
      "25\n",
      "20\n",
      "15\n",
      "10\n",
      "5\n"
     ]
    }
   ],
   "source": [
    "#Write a loop that uses print to create the output shown below.\n",
    "i = 100\n",
    "while i >= 5:\n",
    "    print (i)\n",
    "    i -= 5\n"
   ]
  },
  {
   "cell_type": "code",
   "execution_count": 154,
   "id": "e0bb3112",
   "metadata": {},
   "outputs": [
    {
     "name": "stdout",
     "output_type": "stream",
     "text": [
      "Display multiplication table of: 5\n",
      "5 x 1 = 5\n",
      "5 x 2 = 10\n",
      "5 x 3 = 15\n",
      "5 x 4 = 20\n",
      "5 x 5 = 25\n",
      "5 x 6 = 30\n",
      "5 x 7 = 35\n",
      "5 x 8 = 40\n",
      "5 x 9 = 45\n",
      "5 x 10 = 50\n"
     ]
    }
   ],
   "source": [
    "#b. For Loops\n",
    "#i. Write some code that prompts the user for a number, then shows a multiplication table up through 10 for that number.\n",
    "\n",
    "num = int(input(\"Display multiplication table of: \"))\n",
    "\n",
    "for i in range(1, 11):\n",
    "   print(num, 'x', i, '=', num*i)"
   ]
  },
  {
   "cell_type": "code",
   "execution_count": 26,
   "id": "25047000",
   "metadata": {},
   "outputs": [
    {
     "ename": "SyntaxError",
     "evalue": "f-string: expecting '}' (4195477696.py, line 3)",
     "output_type": "error",
     "traceback": [
      "\u001b[0;36m  Input \u001b[0;32mIn [26]\u001b[0;36m\u001b[0m\n\u001b[0;31m    print(f'{user_num} x {x} = {int{user_num * x}')\u001b[0m\n\u001b[0m                                                  ^\u001b[0m\n\u001b[0;31mSyntaxError\u001b[0m\u001b[0;31m:\u001b[0m f-string: expecting '}'\n"
     ]
    }
   ],
   "source": [
    "user_num = ('Enter a number: ')\n",
    "for x in range(1,11):\n",
    "    print(f'{user_num} x {x} = {int{user_num * x}')"
   ]
  },
  {
   "cell_type": "code",
   "execution_count": 106,
   "id": "305e5892",
   "metadata": {},
   "outputs": [
    {
     "name": "stdout",
     "output_type": "stream",
     "text": [
      "1\n",
      "22\n",
      "333\n",
      "4444\n",
      "55555\n",
      "666666\n",
      "7777777\n",
      "88888888\n",
      "999999999\n"
     ]
    }
   ],
   "source": [
    "#ii.  Create a for loop that uses print to create the output shown below.\n",
    "\n",
    "for i in range(1, 10):\n",
    "    print((str(i)*i))"
   ]
  },
  {
   "cell_type": "code",
   "execution_count": 36,
   "id": "a67849e5",
   "metadata": {},
   "outputs": [
    {
     "name": "stdout",
     "output_type": "stream",
     "text": [
      "Enter a positive integer: 10\n",
      "this is a digit\n",
      "The number is positive!\n",
      "10\n",
      "9\n",
      "8\n",
      "7\n",
      "6\n",
      "5\n",
      "4\n",
      "3\n",
      "2\n",
      "1\n"
     ]
    }
   ],
   "source": [
    "#c. break and continue\n",
    "#i. Write a program that prompts the user for a positive integer. Next write a loop that prints out the numbers from the number the user entered down to 1.\n",
    "while True:\n",
    "    user_num = input(\"Enter a positive integer: \")\n",
    "    \n",
    "    if user_num.isdigit():\n",
    "        print(\"this is a digit\")\n",
    "        if int(user_num) > 0:\n",
    "            print('The number is positive!')\n",
    "            break\n",
    "            \n",
    "user_num = int(user_num)\n",
    "for i in range(user_num, 0, -1):\n",
    "    print(i)    "
   ]
  },
  {
   "cell_type": "code",
   "execution_count": 37,
   "id": "5da8c806",
   "metadata": {
    "scrolled": true
   },
   "outputs": [
    {
     "name": "stdout",
     "output_type": "stream",
     "text": [
      "Enter a positive number: 10\n",
      "this is a digit\n",
      "The number is positive!\n",
      "0\n",
      "1\n",
      "2\n",
      "3\n",
      "4\n",
      "5\n",
      "6\n",
      "7\n",
      "8\n",
      "9\n",
      "10\n"
     ]
    }
   ],
   "source": [
    "#ii. The input function can be used to prompt for input and use that input in your python code. Prompt the user to enter a positive number \n",
    "# and write a loop that counts from 0 to that number. (Hints: first make sure that the value the user entered is a valid number, \n",
    "# also note that the input function returns a string, so you'll need to convert this to a numeric type.)\n",
    "#num = int(input('Enter a positive number: '))\n",
    "\n",
    "\n",
    "    \n",
    "while True:\n",
    "    user_num = input(\"Enter a positive number: \")\n",
    "    \n",
    "    if user_num.isdigit():\n",
    "        print(\"this is a digit\")\n",
    "        if int(user_num) > 0:\n",
    "            print('The number is positive!')\n",
    "            break\n",
    "            \n",
    "for i in range(int(user_num) + 1):\n",
    "    print(i)    "
   ]
  },
  {
   "cell_type": "code",
   "execution_count": 54,
   "id": "07fb9971",
   "metadata": {},
   "outputs": [
    {
     "name": "stdout",
     "output_type": "stream",
     "text": [
      "Enter an odd number between 1 and 50: 45\n",
      "This is a digit\n",
      "The number is odd!\n",
      "this is between 1 and 50\n",
      "1\n",
      "3\n",
      "5\n",
      "7\n",
      "9\n",
      "11\n",
      "13\n",
      "15\n",
      "17\n",
      "19\n",
      "21\n",
      "23\n",
      "25\n",
      "27\n",
      "29\n",
      "31\n",
      "33\n",
      "35\n",
      "37\n",
      "39\n",
      "41\n",
      "43\n",
      "we skipped this!\n",
      "47\n",
      "49\n"
     ]
    }
   ],
   "source": [
    "  #iii. Prompt the user for an odd number between 1 and 50. Use a loop and a break statement to continue prompting \n",
    "#the user if they enter invalid input. (Hint: use the isdigit method on strings to determine this). \n",
    "#Use a loop and the continue statement to output all the odd numbers between 1 and 50, \n",
    "# except for the number the user entered. #(string.isdigit())\n",
    "while True:\n",
    "    user_num = input('Enter an odd number between 1 and 50: ')\n",
    "    \n",
    "    if user_num.isdigit():\n",
    "        print(\"This is a digit\")\n",
    "        if int(user_num) % 2 != 0:\n",
    "            print('The number is odd!')\n",
    "            if (int(user_num) > 1) and (int(user_num) < 50):\n",
    "                print(\"this is between 1 and 50\")\n",
    "                break\n",
    "\n",
    "user_num = int(user_num)\n",
    "\n",
    "for i in range(1,50):\n",
    "    if i == user_num:\n",
    "        print(\"we skipped this!\")\n",
    "        continue\n",
    "    if i % 2 == 1:\n",
    "        print(i)\n",
    "    "
   ]
  },
  {
   "cell_type": "code",
   "execution_count": 339,
   "id": "9efa1560",
   "metadata": {},
   "outputs": [
    {
     "name": "stdout",
     "output_type": "stream",
     "text": [
      "1\n",
      "2\n",
      "Fizz\n",
      "4\n",
      "Buzz\n",
      "Fizz\n",
      "7\n",
      "8\n",
      "Fizz\n",
      "Buzz\n",
      "11\n",
      "Fizz\n",
      "13\n",
      "14\n",
      "FizzBuzz\n",
      "16\n",
      "17\n",
      "Fizz\n",
      "19\n",
      "Buzz\n",
      "Fizz\n",
      "22\n",
      "23\n",
      "Fizz\n",
      "Buzz\n",
      "26\n",
      "Fizz\n",
      "28\n",
      "29\n",
      "FizzBuzz\n",
      "31\n",
      "32\n",
      "Fizz\n",
      "34\n",
      "Buzz\n",
      "Fizz\n",
      "37\n",
      "38\n",
      "Fizz\n",
      "Buzz\n",
      "41\n",
      "Fizz\n",
      "43\n",
      "44\n",
      "FizzBuzz\n",
      "46\n",
      "47\n",
      "Fizz\n",
      "49\n",
      "Buzz\n",
      "Fizz\n",
      "52\n",
      "53\n",
      "Fizz\n",
      "Buzz\n",
      "56\n",
      "Fizz\n",
      "58\n",
      "59\n",
      "FizzBuzz\n",
      "61\n",
      "62\n",
      "Fizz\n",
      "64\n",
      "Buzz\n",
      "Fizz\n",
      "67\n",
      "68\n",
      "Fizz\n",
      "Buzz\n",
      "71\n",
      "Fizz\n",
      "73\n",
      "74\n",
      "FizzBuzz\n",
      "76\n",
      "77\n",
      "Fizz\n",
      "79\n",
      "Buzz\n",
      "Fizz\n",
      "82\n",
      "83\n",
      "Fizz\n",
      "Buzz\n",
      "86\n",
      "Fizz\n",
      "88\n",
      "89\n",
      "FizzBuzz\n",
      "91\n",
      "92\n",
      "Fizz\n",
      "94\n",
      "Buzz\n",
      "Fizz\n",
      "97\n",
      "98\n",
      "Fizz\n",
      "Buzz\n"
     ]
    }
   ],
   "source": [
    "#Fizzbuzz\n",
    "#One of the most common interview questions for entry-level programmers is the FizzBuzz test. Developed by Imran Ghory, \n",
    "# the test is designed to test basic looping and conditional logic skills.\n",
    "#Write a program that prints the numbers from 1 to 100.\n",
    "#For multiples of three print \"Fizz\" instead of the number\n",
    "#For the multiples of five print \"Buzz\".\n",
    "#For numbers which are multiples of both three and five print \"FizzBuzz\".\n",
    "for i in range(1, 101):\n",
    "    if i%3 == 0 and i%5 ==0:\n",
    "        print(\"FizzBuzz\")\n",
    "    elif i%3 == 0:\n",
    "        print('Fizz')\n",
    "    elif i%5 == 0:\n",
    "        print(\"Buzz\")\n",
    "    else:\n",
    "        print(i)\n",
    "\n",
    "\n"
   ]
  },
  {
   "cell_type": "code",
   "execution_count": 55,
   "id": "00707424",
   "metadata": {},
   "outputs": [
    {
     "name": "stdout",
     "output_type": "stream",
     "text": [
      "1\n",
      "2\n",
      "fizz\n",
      "4\n",
      "buzz\n",
      "fizz\n",
      "7\n",
      "8\n",
      "fizz\n",
      "buzz\n",
      "11\n",
      "fizz\n",
      "13\n",
      "14\n",
      "fizzbuzz\n",
      "16\n",
      "17\n",
      "fizz\n",
      "19\n",
      "buzz\n",
      "fizz\n",
      "22\n",
      "23\n",
      "fizz\n",
      "buzz\n",
      "26\n",
      "fizz\n",
      "28\n",
      "29\n",
      "fizzbuzz\n",
      "31\n",
      "32\n",
      "fizz\n",
      "34\n",
      "buzz\n",
      "fizz\n",
      "37\n",
      "38\n",
      "fizz\n",
      "buzz\n",
      "41\n",
      "fizz\n",
      "43\n",
      "44\n",
      "fizzbuzz\n",
      "46\n",
      "47\n",
      "fizz\n",
      "49\n",
      "buzz\n",
      "fizz\n",
      "52\n",
      "53\n",
      "fizz\n",
      "buzz\n",
      "56\n",
      "fizz\n",
      "58\n",
      "59\n",
      "fizzbuzz\n",
      "61\n",
      "62\n",
      "fizz\n",
      "64\n",
      "buzz\n",
      "fizz\n",
      "67\n",
      "68\n",
      "fizz\n",
      "buzz\n",
      "71\n",
      "fizz\n",
      "73\n",
      "74\n",
      "fizzbuzz\n",
      "76\n",
      "77\n",
      "fizz\n",
      "79\n",
      "buzz\n",
      "fizz\n",
      "82\n",
      "83\n",
      "fizz\n",
      "buzz\n",
      "86\n",
      "fizz\n",
      "88\n",
      "89\n",
      "fizzbuzz\n",
      "91\n",
      "92\n",
      "fizz\n",
      "94\n",
      "buzz\n",
      "fizz\n",
      "97\n",
      "98\n",
      "fizz\n",
      "buzz\n"
     ]
    }
   ],
   "source": [
    "for i in range(1,101):\n",
    "    if i % 15 ==0:\n",
    "        print('fizzbuzz')\n",
    "        continue\n",
    "    if i % 3 == 0:\n",
    "        print('fizz')\n",
    "        continue\n",
    "    if i % 5 == 0:\n",
    "        print('buzz')\n",
    "        continue\n",
    "    print(i)"
   ]
  },
  {
   "cell_type": "code",
   "execution_count": 130,
   "id": "ec52ed65",
   "metadata": {},
   "outputs": [
    {
     "name": "stdout",
     "output_type": "stream",
     "text": [
      "What number would you like to go up to?: 22\n",
      "number squared cubed\n",
      "1 1 1\n",
      "2 4 8\n",
      "3 9 27\n",
      "4 16 64\n",
      "5 25 125\n",
      "6 36 216\n",
      "7 49 343\n",
      "8 64 512\n",
      "9 81 729\n",
      "10 100 1000\n",
      "11 121 1331\n",
      "12 144 1728\n",
      "13 169 2197\n",
      "14 196 2744\n",
      "15 225 3375\n",
      "16 256 4096\n",
      "17 289 4913\n",
      "18 324 5832\n",
      "19 361 6859\n",
      "20 400 8000\n",
      "21 441 9261\n"
     ]
    }
   ],
   "source": [
    "#Display a table of powers. Prompt the user to enter an integer. Display a table of squares and cubes from 1 \n",
    "#to the value entered. Ask if the user wants to continue. Assume that the user will enter valid data.\n",
    "#Only continue if the user agrees to.\n",
    "\n",
    "num = int(input(\"What number would you like to go up to?: \"))\n",
    "print(\"number\", \"squared\", \"cubed\")\n",
    "for i in range(1, num):\n",
    "    print(i ,.i**2, i**3 )\n",
    "\n"
   ]
  },
  {
   "cell_type": "code",
   "execution_count": null,
   "id": "46948aef",
   "metadata": {},
   "outputs": [],
   "source": [
    "range(1,num)"
   ]
  },
  {
   "cell_type": "code",
   "execution_count": null,
   "id": "a81c3048",
   "metadata": {},
   "outputs": [],
   "source": [
    "#5. Convert given number grades into letter grades. \n",
    "#Prompt the user for a numerical grade from 0 to 100.    \n",
    "#Display the corresponding letter grade.\n",
    "#Prompt the user to continue.\n",
    "#Assume that the user will enter valid integers for the grades.\n",
    "#The application should only continue if the user agrees to.\n",
    "#Grade Ranges:\n",
    "\n",
    "    A : 100 - 88\n",
    "    B : 87 - 80\n",
    "    C : 79 - 67\n",
    "    D : 66 - 60\n",
    "    F : 59 - 0\n",
    "\n",
    "\n"
   ]
  },
  {
   "cell_type": "code",
   "execution_count": 3,
   "id": "2f8db3fa",
   "metadata": {},
   "outputs": [
    {
     "name": "stdout",
     "output_type": "stream",
     "text": [
      "Enter your score: 67\n",
      "C\n",
      "would you like to continue? (y/n)y\n",
      "Enter your score: 79\n",
      "C\n",
      "would you like to continue? (y/n)n\n"
     ]
    }
   ],
   "source": [
    "while True:\n",
    "    grade = int(input('Enter your score: '))\n",
    "\n",
    "    if grade>=88:\n",
    "        print('A')\n",
    "    elif grade>=80:\n",
    "        print('B')\n",
    "    elif grade>=67:\n",
    "        print('C')\n",
    "    elif grade>=60:\n",
    "        print('D')\n",
    "    else:\n",
    "        print('F')\n",
    "    \n",
    "    user_yn = input(\"would you like to continue? (y/n)\")\n",
    "    if user_yn.lower() != 'y':\n",
    "        break"
   ]
  },
  {
   "cell_type": "code",
   "execution_count": null,
   "id": "535aa98f",
   "metadata": {},
   "outputs": [],
   "source": [
    "Edit your grade ranges to include pluses and minuses (ex: 99-100 = A+)."
   ]
  },
  {
   "cell_type": "code",
   "execution_count": null,
   "id": "0ab54e9e",
   "metadata": {},
   "outputs": [],
   "source": [
    "#6. Create a list of dictionaries where each dictionary represents a book that you have read. \n",
    "#Each dictionary in the list should have the keys title, author, and genre. \n",
    "#Loop through the list and print out information about each book."
   ]
  },
  {
   "cell_type": "code",
   "execution_count": 148,
   "id": "042d1ac7",
   "metadata": {},
   "outputs": [
    {
     "name": "stdout",
     "output_type": "stream",
     "text": [
      "{'Title': 'Enchanted April', 'Author': 'E. Von Armin', 'Genre': 'Historical Fiction'}\n",
      "{'Title': 'Fault Among the Stars', 'Author': 'John Green', 'Genre': 'Medical Drama'}\n",
      "{'Title': 'Enchanted April', 'Author': 'E. Von Armin', 'Genre': \"Children's Fiction- Fantasy\"}\n"
     ]
    }
   ],
   "source": [
    "books = [{\n",
    "  \"Title\": \"Enchanted April\",\n",
    "  \"Author\": \"E. Von Armin\",\n",
    "  \"Genre\": \"Historical Fiction\"\n",
    "},\n",
    "{\n",
    "    \"Title\": \"Fault Among the Stars\",\n",
    "    \"Author\": \"John Green\",\n",
    "    \"Genre\": \"Medical Drama\"\n",
    "},\n",
    "{\n",
    "    \"Title\": \"Enchanted April\",\n",
    "    \"Author\": \"E. Von Armin\",\n",
    "    \"Genre\": \"Children's Fiction- Fantasy\"\n",
    "}]\n",
    "\n",
    "for book in books:\n",
    "    print(book)\n",
    "    "
   ]
  },
  {
   "cell_type": "code",
   "execution_count": 8,
   "id": "f60318e3",
   "metadata": {},
   "outputs": [
    {
     "name": "stdout",
     "output_type": "stream",
     "text": [
      "Pick a genre from Historical Fiction, Medical Drama, or Fantasy: Fantasy\n"
     ]
    }
   ],
   "source": [
    "#Loop through the list and print out information about each book.\n",
    "#a. Prompt the user to enter a genre, then loop through your books list and print out the titles of all the \n",
    "#books in that genre.\n",
    "\n",
    "Book_picker = input('Pick a genre from Historical Fiction, Medical Drama, or Fantasy: ')\n",
    "\n",
    "books = [{\n",
    "  \"Title\": \"Enchanted April\",\n",
    "  \"Author\": \"E. Von Armin\",\n",
    "  \"Genre\": \"Historical Fiction\"\n",
    "},\n",
    "{\n",
    "    \"Title\": \"Fault Among the Stars\",\n",
    "    \"Author\": \"John Green\",\n",
    "    \"Genre\": \"Medical Drama\"\n",
    "},\n",
    "{\n",
    "    \"Title\": \"Enchanted April\",\n",
    "    \"Author\": \"E. Von Armin\",\n",
    "    \"Genre\": \"Fantasy\"\n",
    "}]\n",
    "\n"
   ]
  },
  {
   "cell_type": "code",
   "execution_count": null,
   "id": "63c1325f",
   "metadata": {},
   "outputs": [],
   "source": []
  },
  {
   "cell_type": "code",
   "execution_count": null,
   "id": "bd059807",
   "metadata": {},
   "outputs": [],
   "source": []
  }
 ],
 "metadata": {
  "kernelspec": {
   "display_name": "Python 3 (ipykernel)",
   "language": "python",
   "name": "python3"
  },
  "language_info": {
   "codemirror_mode": {
    "name": "ipython",
    "version": 3
   },
   "file_extension": ".py",
   "mimetype": "text/x-python",
   "name": "python",
   "nbconvert_exporter": "python",
   "pygments_lexer": "ipython3",
   "version": "3.9.12"
  }
 },
 "nbformat": 4,
 "nbformat_minor": 5
}

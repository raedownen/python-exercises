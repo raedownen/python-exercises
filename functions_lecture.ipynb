{
 "cells": [
  {
   "cell_type": "code",
   "execution_count": 1,
   "id": "50286a49",
   "metadata": {},
   "outputs": [
    {
     "data": {
      "text/plain": [
       "4"
      ]
     },
     "execution_count": 1,
     "metadata": {},
     "output_type": "execute_result"
    }
   ],
   "source": [
    "len([1,2,3,4])"
   ]
  },
  {
   "cell_type": "code",
   "execution_count": 2,
   "id": "c225a599",
   "metadata": {},
   "outputs": [
    {
     "data": {
      "text/plain": [
       "<function len(obj, /)>"
      ]
     },
     "execution_count": 2,
     "metadata": {},
     "output_type": "execute_result"
    }
   ],
   "source": [
    "len"
   ]
  },
  {
   "cell_type": "code",
   "execution_count": 3,
   "id": "a79fe32e",
   "metadata": {},
   "outputs": [
    {
     "name": "stdout",
     "output_type": "stream",
     "text": [
      "The length of the list is :  4\n"
     ]
    }
   ],
   "source": [
    "print('The length of the list is : ', len([1,2,3,4]))"
   ]
  },
  {
   "cell_type": "markdown",
   "id": "bd434420",
   "metadata": {},
   "source": [
    "# How to make a function"
   ]
  },
  {
   "cell_type": "markdown",
   "id": "4283cb01",
   "metadata": {},
   "source": [
    "Arguments / Parameters\n",
    "We have been using these terms already, but, formally:\n",
    "\n",
    "an argument is the value a function is called with\n",
    "a parameter is part of a function's definition; a placeholder for an argument\n",
    "You can think of parameters as a special kind of variable that takes on the value of the function's arguments each time it is called."
   ]
  },
  {
   "cell_type": "code",
   "execution_count": 68,
   "id": "4acda18c",
   "metadata": {},
   "outputs": [],
   "source": [
    "## declaration that you are defining a function)\n",
    "def name_of_function(parameters):\n",
    "    #doc string\n",
    "    '''takes 2 arguments\n",
    "    greeting(str):  The string uou would like\n",
    "    name(string): The name that ypu want included in the greeting\n",
    "    \n",
    "    prints the greeting to the console\n",
    "    \n",
    "    returns: nothing\n",
    "    '''\n",
    "    return result\n",
    "#name_of_function(arguments)"
   ]
  },
  {
   "cell_type": "code",
   "execution_count": 69,
   "id": "dd666907",
   "metadata": {},
   "outputs": [],
   "source": [
    "# how do we check... use ? call function name with ? at end. \n",
    "name_of_function?"
   ]
  },
  {
   "cell_type": "code",
   "execution_count": 6,
   "id": "43d65a9a",
   "metadata": {},
   "outputs": [],
   "source": [
    "def increment(n):\n",
    "    return n +1"
   ]
  },
  {
   "cell_type": "code",
   "execution_count": 7,
   "id": "7af88fa3",
   "metadata": {},
   "outputs": [
    {
     "data": {
      "text/plain": [
       "2"
      ]
     },
     "execution_count": 7,
     "metadata": {},
     "output_type": "execute_result"
    }
   ],
   "source": [
    "increment(1)"
   ]
  },
  {
   "cell_type": "code",
   "execution_count": 8,
   "id": "51c38606",
   "metadata": {},
   "outputs": [
    {
     "data": {
      "text/plain": [
       "4"
      ]
     },
     "execution_count": 8,
     "metadata": {},
     "output_type": "execute_result"
    }
   ],
   "source": [
    "increment(increment(increment(1)))"
   ]
  },
  {
   "cell_type": "code",
   "execution_count": 9,
   "id": "14b8ee4b",
   "metadata": {},
   "outputs": [
    {
     "name": "stdout",
     "output_type": "stream",
     "text": [
      "Hello\n"
     ]
    }
   ],
   "source": [
    "input = \"Hello\"\n",
    "print(input)"
   ]
  },
  {
   "cell_type": "code",
   "execution_count": 10,
   "id": "3740dd15",
   "metadata": {},
   "outputs": [
    {
     "ename": "TypeError",
     "evalue": "'str' object is not callable",
     "output_type": "error",
     "traceback": [
      "\u001b[0;31m---------------------------------------------------------------------------\u001b[0m",
      "\u001b[0;31mTypeError\u001b[0m                                 Traceback (most recent call last)",
      "Input \u001b[0;32mIn [10]\u001b[0m, in \u001b[0;36m<cell line: 1>\u001b[0;34m()\u001b[0m\n\u001b[0;32m----> 1\u001b[0m \u001b[38;5;28;43minput\u001b[39;49m\u001b[43m(\u001b[49m\u001b[38;5;124;43m\"\u001b[39;49m\u001b[38;5;124;43mHow are you?\u001b[39;49m\u001b[38;5;124;43m\"\u001b[39;49m\u001b[43m)\u001b[49m\n",
      "\u001b[0;31mTypeError\u001b[0m: 'str' object is not callable"
     ]
    }
   ],
   "source": [
    "input(\"How are you?\")"
   ]
  },
  {
   "cell_type": "code",
   "execution_count": null,
   "id": "adc3a03f",
   "metadata": {},
   "outputs": [],
   "source": [
    "# careful when you name things.  the string is Hello and is not callable like a function."
   ]
  },
  {
   "cell_type": "code",
   "execution_count": 11,
   "id": "4250d960",
   "metadata": {},
   "outputs": [],
   "source": [
    "def increment(n):\n",
    "    return n + 1\n",
    "    print('You will never see this')\n",
    "    return n + 1"
   ]
  },
  {
   "cell_type": "code",
   "execution_count": 12,
   "id": "d04e68b6",
   "metadata": {},
   "outputs": [
    {
     "data": {
      "text/plain": [
       "3"
      ]
     },
     "execution_count": 12,
     "metadata": {},
     "output_type": "execute_result"
    }
   ],
   "source": [
    "increment(2)"
   ]
  },
  {
   "cell_type": "code",
   "execution_count": 23,
   "id": "982fb5e4",
   "metadata": {},
   "outputs": [],
   "source": [
    "def length(thing):\n",
    "    #thing = argument given\n",
    "    count = 0\n",
    "    \n",
    "    if thing == '' or thing == []: #empty string or list\n",
    "        return count\n",
    "    \n",
    "    # (WRONG) \"if\" item in thing: use FOR\n",
    "    for item in thing:\n",
    "        count+= 1\n",
    "    \n",
    "    return count"
   ]
  },
  {
   "cell_type": "code",
   "execution_count": 24,
   "id": "48a731cc",
   "metadata": {},
   "outputs": [
    {
     "data": {
      "text/plain": [
       "5"
      ]
     },
     "execution_count": 24,
     "metadata": {},
     "output_type": "execute_result"
    }
   ],
   "source": [
    "length('hello')"
   ]
  },
  {
   "cell_type": "code",
   "execution_count": 15,
   "id": "3beb8ae8",
   "metadata": {},
   "outputs": [],
   "source": [
    "number = 1\n",
    "number += 1\n"
   ]
  },
  {
   "cell_type": "code",
   "execution_count": 16,
   "id": "08c28a4c",
   "metadata": {},
   "outputs": [
    {
     "data": {
      "text/plain": [
       "2"
      ]
     },
     "execution_count": 16,
     "metadata": {},
     "output_type": "execute_result"
    }
   ],
   "source": [
    "number"
   ]
  },
  {
   "cell_type": "code",
   "execution_count": 17,
   "id": "e62cfba2",
   "metadata": {},
   "outputs": [
    {
     "data": {
      "text/plain": [
       "False"
      ]
     },
     "execution_count": 17,
     "metadata": {},
     "output_type": "execute_result"
    }
   ],
   "source": [
    "bool('')"
   ]
  },
  {
   "cell_type": "code",
   "execution_count": 18,
   "id": "a53b7593",
   "metadata": {},
   "outputs": [
    {
     "data": {
      "text/plain": [
       "False"
      ]
     },
     "execution_count": 18,
     "metadata": {},
     "output_type": "execute_result"
    }
   ],
   "source": [
    "bool([])"
   ]
  },
  {
   "cell_type": "code",
   "execution_count": 19,
   "id": "e0ca1275",
   "metadata": {},
   "outputs": [
    {
     "data": {
      "text/plain": [
       "0"
      ]
     },
     "execution_count": 19,
     "metadata": {},
     "output_type": "execute_result"
    }
   ],
   "source": [
    "length([])"
   ]
  },
  {
   "cell_type": "code",
   "execution_count": 25,
   "id": "c7134bba",
   "metadata": {},
   "outputs": [
    {
     "data": {
      "text/plain": [
       "5"
      ]
     },
     "execution_count": 25,
     "metadata": {},
     "output_type": "execute_result"
    }
   ],
   "source": [
    "length(\"hello\")"
   ]
  },
  {
   "cell_type": "markdown",
   "id": "4fe5c253",
   "metadata": {},
   "source": [
    "# what if i don't return anything?"
   ]
  },
  {
   "cell_type": "code",
   "execution_count": 26,
   "id": "333d7366",
   "metadata": {},
   "outputs": [],
   "source": [
    "def say_hello():\n",
    "    print('Hello!')"
   ]
  },
  {
   "cell_type": "code",
   "execution_count": 28,
   "id": "adb4f4c8",
   "metadata": {},
   "outputs": [
    {
     "name": "stdout",
     "output_type": "stream",
     "text": [
      "Hello!\n"
     ]
    }
   ],
   "source": [
    "say_hello()"
   ]
  },
  {
   "cell_type": "code",
   "execution_count": 29,
   "id": "f5a56874",
   "metadata": {},
   "outputs": [],
   "source": [
    "two = increment(1)"
   ]
  },
  {
   "cell_type": "code",
   "execution_count": 30,
   "id": "56abfe34",
   "metadata": {},
   "outputs": [
    {
     "data": {
      "text/plain": [
       "2"
      ]
     },
     "execution_count": 30,
     "metadata": {},
     "output_type": "execute_result"
    }
   ],
   "source": [
    "two"
   ]
  },
  {
   "cell_type": "code",
   "execution_count": 31,
   "id": "15fdd946",
   "metadata": {},
   "outputs": [
    {
     "name": "stdout",
     "output_type": "stream",
     "text": [
      "Hello!\n"
     ]
    }
   ],
   "source": [
    "hello = say_hello()"
   ]
  },
  {
   "cell_type": "code",
   "execution_count": 32,
   "id": "8a829c74",
   "metadata": {},
   "outputs": [
    {
     "data": {
      "text/plain": [
       "NoneType"
      ]
     },
     "execution_count": 32,
     "metadata": {},
     "output_type": "execute_result"
    }
   ],
   "source": [
    "type(hello)"
   ]
  },
  {
   "cell_type": "code",
   "execution_count": 33,
   "id": "510225a8",
   "metadata": {},
   "outputs": [],
   "source": [
    "None"
   ]
  },
  {
   "cell_type": "code",
   "execution_count": 34,
   "id": "6bd3d7fc",
   "metadata": {},
   "outputs": [
    {
     "name": "stdout",
     "output_type": "stream",
     "text": [
      "Hello\n"
     ]
    }
   ],
   "source": [
    "empty_var = print('Hello')"
   ]
  },
  {
   "cell_type": "code",
   "execution_count": 35,
   "id": "7f24b6e9",
   "metadata": {},
   "outputs": [
    {
     "data": {
      "text/plain": [
       "NoneType"
      ]
     },
     "execution_count": 35,
     "metadata": {},
     "output_type": "execute_result"
    }
   ],
   "source": [
    "type(empty_var)"
   ]
  },
  {
   "cell_type": "code",
   "execution_count": 36,
   "id": "9de7a4d4",
   "metadata": {},
   "outputs": [
    {
     "name": "stdout",
     "output_type": "stream",
     "text": [
      "Hello!\n"
     ]
    }
   ],
   "source": [
    "say_hello()"
   ]
  },
  {
   "cell_type": "code",
   "execution_count": 37,
   "id": "6a186a46",
   "metadata": {},
   "outputs": [
    {
     "ename": "TypeError",
     "evalue": "say_hello() takes 0 positional arguments but 1 was given",
     "output_type": "error",
     "traceback": [
      "\u001b[0;31m---------------------------------------------------------------------------\u001b[0m",
      "\u001b[0;31mTypeError\u001b[0m                                 Traceback (most recent call last)",
      "Input \u001b[0;32mIn [37]\u001b[0m, in \u001b[0;36m<cell line: 1>\u001b[0;34m()\u001b[0m\n\u001b[0;32m----> 1\u001b[0m \u001b[43msay_hello\u001b[49m\u001b[43m(\u001b[49m\u001b[38;5;124;43m\"\u001b[39;49m\u001b[38;5;124;43mRyan\u001b[39;49m\u001b[38;5;124;43m\"\u001b[39;49m\u001b[43m)\u001b[49m\n",
      "\u001b[0;31mTypeError\u001b[0m: say_hello() takes 0 positional arguments but 1 was given"
     ]
    }
   ],
   "source": [
    "# this function does not take in any argument\n",
    "say_hello(\"Ryan\")\n"
   ]
  },
  {
   "cell_type": "code",
   "execution_count": 38,
   "id": "ac0b6fcd",
   "metadata": {},
   "outputs": [
    {
     "ename": "TypeError",
     "evalue": "length() takes 1 positional argument but 2 were given",
     "output_type": "error",
     "traceback": [
      "\u001b[0;31m---------------------------------------------------------------------------\u001b[0m",
      "\u001b[0;31mTypeError\u001b[0m                                 Traceback (most recent call last)",
      "Input \u001b[0;32mIn [38]\u001b[0m, in \u001b[0;36m<cell line: 1>\u001b[0;34m()\u001b[0m\n\u001b[0;32m----> 1\u001b[0m \u001b[43mlength\u001b[49m\u001b[43m(\u001b[49m\u001b[38;5;124;43m'\u001b[39;49m\u001b[38;5;124;43mHello\u001b[39;49m\u001b[38;5;124;43m'\u001b[39;49m\u001b[43m,\u001b[49m\u001b[38;5;124;43m'\u001b[39;49m\u001b[38;5;124;43mGoodbye\u001b[39;49m\u001b[38;5;124;43m'\u001b[39;49m\u001b[43m)\u001b[49m\n",
      "\u001b[0;31mTypeError\u001b[0m: length() takes 1 positional argument but 2 were given"
     ]
    }
   ],
   "source": [
    "# error, gave 2 but only tales 1\n",
    "length('Hello','Goodbye')"
   ]
  },
  {
   "cell_type": "code",
   "execution_count": 39,
   "id": "89cb690f",
   "metadata": {},
   "outputs": [
    {
     "data": {
      "text/plain": [
       "2"
      ]
     },
     "execution_count": 39,
     "metadata": {},
     "output_type": "execute_result"
    }
   ],
   "source": [
    "length(['Hello','Goodbye'])"
   ]
  },
  {
   "cell_type": "code",
   "execution_count": null,
   "id": "48ff7633",
   "metadata": {},
   "outputs": [],
   "source": [
    "range(1,10)"
   ]
  },
  {
   "cell_type": "code",
   "execution_count": 40,
   "id": "4b65a2d8",
   "metadata": {},
   "outputs": [
    {
     "ename": "TypeError",
     "evalue": "increment() missing 1 required positional argument: 'n'",
     "output_type": "error",
     "traceback": [
      "\u001b[0;31m---------------------------------------------------------------------------\u001b[0m",
      "\u001b[0;31mTypeError\u001b[0m                                 Traceback (most recent call last)",
      "Input \u001b[0;32mIn [40]\u001b[0m, in \u001b[0;36m<cell line: 1>\u001b[0;34m()\u001b[0m\n\u001b[0;32m----> 1\u001b[0m \u001b[43mincrement\u001b[49m\u001b[43m(\u001b[49m\u001b[43m)\u001b[49m\n",
      "\u001b[0;31mTypeError\u001b[0m: increment() missing 1 required positional argument: 'n'"
     ]
    }
   ],
   "source": [
    "# error gave no argument, but needs 1 \n",
    "increment()"
   ]
  },
  {
   "cell_type": "markdown",
   "id": "6e0e3477",
   "metadata": {},
   "source": [
    "# Default Arguments"
   ]
  },
  {
   "cell_type": "code",
   "execution_count": 45,
   "id": "327290b2",
   "metadata": {},
   "outputs": [],
   "source": [
    "def say_hello(greeting= \"Hello\", name = \"User!\"):\n",
    "    print(greeting, name)"
   ]
  },
  {
   "cell_type": "code",
   "execution_count": 46,
   "id": "b5b7bceb",
   "metadata": {},
   "outputs": [
    {
     "name": "stdout",
     "output_type": "stream",
     "text": [
      "Hello User!\n"
     ]
    }
   ],
   "source": [
    "say_hello()"
   ]
  },
  {
   "cell_type": "code",
   "execution_count": null,
   "id": "3456748a",
   "metadata": {},
   "outputs": [],
   "source": [
    "range(10)"
   ]
  },
  {
   "cell_type": "code",
   "execution_count": 47,
   "id": "10eee38f",
   "metadata": {},
   "outputs": [
    {
     "name": "stdout",
     "output_type": "stream",
     "text": [
      "Salutation Rae!\n"
     ]
    }
   ],
   "source": [
    "say_hello(\"Salutation\", \"Rae!\")"
   ]
  },
  {
   "cell_type": "code",
   "execution_count": 48,
   "id": "45d54852",
   "metadata": {},
   "outputs": [
    {
     "name": "stdout",
     "output_type": "stream",
     "text": [
      "Salutations User!\n"
     ]
    }
   ],
   "source": [
    "say_hello('Salutations')"
   ]
  },
  {
   "cell_type": "markdown",
   "id": "c5155a0e",
   "metadata": {},
   "source": [
    "# keyword arguments"
   ]
  },
  {
   "cell_type": "code",
   "execution_count": 49,
   "id": "12d08eca",
   "metadata": {},
   "outputs": [
    {
     "name": "stdout",
     "output_type": "stream",
     "text": [
      "Ryan User!\n"
     ]
    }
   ],
   "source": [
    "say_hello('Ryan')"
   ]
  },
  {
   "cell_type": "code",
   "execution_count": 50,
   "id": "e61b8509",
   "metadata": {},
   "outputs": [
    {
     "name": "stdout",
     "output_type": "stream",
     "text": [
      "Hello Rae\n"
     ]
    }
   ],
   "source": [
    "say_hello(name=\"Rae\")"
   ]
  },
  {
   "cell_type": "code",
   "execution_count": 55,
   "id": "fb2f9479",
   "metadata": {},
   "outputs": [
    {
     "ename": "SyntaxError",
     "evalue": "positional argument follows keyword argument (1090421411.py, line 3)",
     "output_type": "error",
     "traceback": [
      "\u001b[0;36m  Input \u001b[0;32mIn [55]\u001b[0;36m\u001b[0m\n\u001b[0;31m    say_hello(greeting='Salutations', 'Rae')\u001b[0m\n\u001b[0m                                           ^\u001b[0m\n\u001b[0;31mSyntaxError\u001b[0m\u001b[0;31m:\u001b[0m positional argument follows keyword argument\n"
     ]
    }
   ],
   "source": [
    "#Positional then keyword \n",
    "#error you need to save keyword after positional....the key word supercedes, so the positional ('Rae') does not work\n",
    "say_hello(greeting='Salutations', 'Rae')"
   ]
  },
  {
   "cell_type": "code",
   "execution_count": 61,
   "id": "4e723960",
   "metadata": {},
   "outputs": [],
   "source": [
    "def print_multiple(thing1='empty',\n",
    "                   thing2='empty',\n",
    "                   thing3='empty',\n",
    "                   thing4='empty',\n",
    "                   thing5='empty'):\n",
    "    list_of_things=[thing1,\n",
    "                   thing2,\n",
    "                   thing3,\n",
    "                   thing4,\n",
    "                   thing5]\n",
    "    \n",
    "    for thing in list_of_things:\n",
    "        print(thing)"
   ]
  },
  {
   "cell_type": "code",
   "execution_count": 62,
   "id": "407ff34e",
   "metadata": {
    "scrolled": true
   },
   "outputs": [
    {
     "name": "stdout",
     "output_type": "stream",
     "text": [
      "hello\n",
      "mirzakhani\n",
      "empty\n",
      "iam thing 4\n",
      "wow\n"
     ]
    }
   ],
   "source": [
    "print_multiple('hello', \"mirzakhani\", thing4=\"iam thing 4\", thing5='wow')"
   ]
  },
  {
   "cell_type": "markdown",
   "id": "1a9c3f62",
   "metadata": {},
   "source": [
    "# * args"
   ]
  },
  {
   "cell_type": "code",
   "execution_count": 63,
   "id": "6dfb3d60",
   "metadata": {},
   "outputs": [
    {
     "name": "stdout",
     "output_type": "stream",
     "text": [
      "Greetings Ryan\n"
     ]
    }
   ],
   "source": [
    "say_hello('Greetings', 'Ryan')"
   ]
  },
  {
   "cell_type": "code",
   "execution_count": 64,
   "id": "fbefbc23",
   "metadata": {},
   "outputs": [
    {
     "name": "stdout",
     "output_type": "stream",
     "text": [
      "GreetingsRyan User!\n"
     ]
    }
   ],
   "source": [
    "list_of_arguments = ['Greetings' 'Ryan']\n",
    "\n",
    "say_hello(*list_of_arguments)"
   ]
  },
  {
   "cell_type": "markdown",
   "id": "30d254a7",
   "metadata": {},
   "source": [
    "# kwargs"
   ]
  },
  {
   "cell_type": "code",
   "execution_count": 67,
   "id": "8b7adc1f",
   "metadata": {},
   "outputs": [
    {
     "name": "stdout",
     "output_type": "stream",
     "text": [
      "Greetings Ryan\n"
     ]
    }
   ],
   "source": [
    "#keyword arguments\n",
    "dict_of_arguments = {\n",
    "    'greeting': 'Greetings',\n",
    "    'name': 'Ryan'\n",
    "}\n",
    "say_hello(**dict_of_arguments)"
   ]
  },
  {
   "cell_type": "code",
   "execution_count": 70,
   "id": "1db2182d",
   "metadata": {},
   "outputs": [
    {
     "name": "stdout",
     "output_type": "stream",
     "text": [
      "dict_of_args\t dict_of_arguments\t empty_var\t hello\t increment\t input\t length\t list_of_arguments\t name_of_function\t \n",
      "number\t print_multiple\t say_hello\t two\t \n"
     ]
    }
   ],
   "source": [
    "# ipython notebook magic\n",
    "%who"
   ]
  },
  {
   "cell_type": "markdown",
   "id": "e216483c",
   "metadata": {},
   "source": [
    "# Scope"
   ]
  },
  {
   "cell_type": "markdown",
   "id": "696f96e7",
   "metadata": {},
   "source": [
    "Scope is a term that describes where a variable can be referenced. If a variable is in-scope, then you can reference it, if it is out-of-scope then you cannot. Variables created inside of a function are local variables and are only in scope inside of the function they are defined in. Variables created outside of functions are global variables and are accessible inside of any function.\n",
    "\n",
    "We can access global variables from anywhere:"
   ]
  },
  {
   "cell_type": "code",
   "execution_count": 74,
   "id": "f041f207",
   "metadata": {},
   "outputs": [
    {
     "name": "stdout",
     "output_type": "stream",
     "text": [
      "Inside the function: 1\n",
      "Outside the function: 1\n"
     ]
    }
   ],
   "source": [
    "number = 1\n",
    "\n",
    "def print_number():\n",
    "    print('Inside the function:', other_number)\n",
    "\n",
    "    \n",
    "other_number = 1\n",
    "print_number()\n",
    "print('Outside the function:', other_number)"
   ]
  },
  {
   "cell_type": "code",
   "execution_count": 75,
   "id": "229cf231",
   "metadata": {},
   "outputs": [
    {
     "ename": "NameError",
     "evalue": "name 'some_other_number' is not defined",
     "output_type": "error",
     "traceback": [
      "\u001b[0;31m---------------------------------------------------------------------------\u001b[0m",
      "\u001b[0;31mNameError\u001b[0m                                 Traceback (most recent call last)",
      "Input \u001b[0;32mIn [75]\u001b[0m, in \u001b[0;36m<cell line: 6>\u001b[0;34m()\u001b[0m\n\u001b[1;32m      1\u001b[0m \u001b[38;5;28;01mdef\u001b[39;00m \u001b[38;5;21mprint_number\u001b[39m():\n\u001b[1;32m      2\u001b[0m     \u001b[38;5;28mprint\u001b[39m(\u001b[38;5;124m'\u001b[39m\u001b[38;5;124mInside the function:\u001b[39m\u001b[38;5;124m'\u001b[39m, some_other_number)\n\u001b[0;32m----> 6\u001b[0m \u001b[43mprint_number\u001b[49m\u001b[43m(\u001b[49m\u001b[43m)\u001b[49m\n\u001b[1;32m      7\u001b[0m some_other_number \u001b[38;5;241m=\u001b[39m \u001b[38;5;241m1\u001b[39m\n\u001b[1;32m      8\u001b[0m \u001b[38;5;28mprint\u001b[39m(\u001b[38;5;124m'\u001b[39m\u001b[38;5;124mOutside the function:\u001b[39m\u001b[38;5;124m'\u001b[39m, some_other_number)\n",
      "Input \u001b[0;32mIn [75]\u001b[0m, in \u001b[0;36mprint_number\u001b[0;34m()\u001b[0m\n\u001b[1;32m      1\u001b[0m \u001b[38;5;28;01mdef\u001b[39;00m \u001b[38;5;21mprint_number\u001b[39m():\n\u001b[0;32m----> 2\u001b[0m     \u001b[38;5;28mprint\u001b[39m(\u001b[38;5;124m'\u001b[39m\u001b[38;5;124mInside the function:\u001b[39m\u001b[38;5;124m'\u001b[39m, \u001b[43msome_other_number\u001b[49m)\n",
      "\u001b[0;31mNameError\u001b[0m: name 'some_other_number' is not defined"
     ]
    }
   ],
   "source": [
    "def print_number():\n",
    "    print('Inside the function:', some_other_number)\n",
    "\n",
    "    \n",
    "\n",
    "print_number()\n",
    "some_other_number = 1\n",
    "print('Outside the function:', some_other_number)"
   ]
  },
  {
   "cell_type": "code",
   "execution_count": 76,
   "id": "df0f8e0d",
   "metadata": {},
   "outputs": [
    {
     "name": "stdout",
     "output_type": "stream",
     "text": [
      "outside the function: 123\n",
      "inside the function: 7\n",
      "After the function ran: 123\n"
     ]
    }
   ],
   "source": [
    "n = 123\n",
    "\n",
    "def a_function():\n",
    "    n = 10\n",
    "    n = n-3\n",
    "    print('inside the function:', n)\n",
    "\n",
    "print('outside the function:', n)\n",
    "a_function()\n",
    "print('After the function ran:', n)"
   ]
  },
  {
   "cell_type": "markdown",
   "id": "9d271a27",
   "metadata": {},
   "source": [
    "# Lamba Functions"
   ]
  },
  {
   "cell_type": "code",
   "execution_count": 77,
   "id": "02bb404a",
   "metadata": {},
   "outputs": [
    {
     "data": {
      "text/plain": [
       "10"
      ]
     },
     "execution_count": 77,
     "metadata": {},
     "output_type": "execute_result"
    }
   ],
   "source": [
    "add_one = lambda n:n+1\n",
    "add_one(9)"
   ]
  },
  {
   "cell_type": "code",
   "execution_count": 78,
   "id": "050290a4",
   "metadata": {},
   "outputs": [
    {
     "data": {
      "text/plain": [
       "4"
      ]
     },
     "execution_count": 78,
     "metadata": {},
     "output_type": "execute_result"
    }
   ],
   "source": [
    "square = lambda n:n**2\n",
    "square(2)"
   ]
  },
  {
   "cell_type": "code",
   "execution_count": 79,
   "id": "808f19f4",
   "metadata": {},
   "outputs": [
    {
     "data": {
      "text/plain": [
       "[2, 3, 4]"
      ]
     },
     "execution_count": 79,
     "metadata": {},
     "output_type": "execute_result"
    }
   ],
   "source": [
    "list(map(len, [[1,2], [3,4,5], [6,7,8,9]]))"
   ]
  },
  {
   "cell_type": "code",
   "execution_count": 81,
   "id": "fec7132f",
   "metadata": {},
   "outputs": [
    {
     "data": {
      "text/plain": [
       "[1, 4, 9, 16, 25, 36, 49, 64, 81, 100]"
      ]
     },
     "execution_count": 81,
     "metadata": {},
     "output_type": "execute_result"
    }
   ],
   "source": [
    "list_of_numbers = list(range(1,11))\n",
    "\n",
    "list(map(square, list_of_numbers))"
   ]
  },
  {
   "cell_type": "code",
   "execution_count": 82,
   "id": "f8721e52",
   "metadata": {},
   "outputs": [
    {
     "data": {
      "text/plain": [
       "[1, 4, 9, 16, 25, 36, 49, 64, 81, 100]"
      ]
     },
     "execution_count": 82,
     "metadata": {},
     "output_type": "execute_result"
    }
   ],
   "source": [
    "list_of_numbers = list(range(1,11))\n",
    "\n",
    "list(map(lambda n:n**2, list_of_numbers))"
   ]
  },
  {
   "cell_type": "code",
   "execution_count": 83,
   "id": "d5f1c0fa",
   "metadata": {},
   "outputs": [
    {
     "data": {
      "text/plain": [
       "<function __main__.<lambda>(n)>"
      ]
     },
     "execution_count": 83,
     "metadata": {},
     "output_type": "execute_result"
    }
   ],
   "source": [
    "square"
   ]
  },
  {
   "cell_type": "code",
   "execution_count": 84,
   "id": "d556230d",
   "metadata": {},
   "outputs": [
    {
     "data": {
      "text/plain": [
       "10"
      ]
     },
     "execution_count": 84,
     "metadata": {},
     "output_type": "execute_result"
    }
   ],
   "source": [
    "add_one(5) + square(2)"
   ]
  },
  {
   "cell_type": "code",
   "execution_count": null,
   "id": "172d27b2",
   "metadata": {},
   "outputs": [],
   "source": []
  }
 ],
 "metadata": {
  "kernelspec": {
   "display_name": "Python 3 (ipykernel)",
   "language": "python",
   "name": "python3"
  },
  "language_info": {
   "codemirror_mode": {
    "name": "ipython",
    "version": 3
   },
   "file_extension": ".py",
   "mimetype": "text/x-python",
   "name": "python",
   "nbconvert_exporter": "python",
   "pygments_lexer": "ipython3",
   "version": "3.9.12"
  }
 },
 "nbformat": 4,
 "nbformat_minor": 5
}

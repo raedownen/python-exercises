{
 "cells": [
  {
   "cell_type": "code",
   "execution_count": 15,
   "id": "74f963e4",
   "metadata": {},
   "outputs": [
    {
     "data": {
      "text/plain": [
       "False"
      ]
     },
     "execution_count": 15,
     "metadata": {},
     "output_type": "execute_result"
    }
   ],
   "source": [
    "#1 Define a function named is_two. It should accept one input and return True if the passed input is either \n",
    "#the number or the string 2, False otherwise.\n",
    "\n",
    "def is_two(n):\n",
    "    if n ==2 or n == '2':\n",
    "        return True\n",
    "    else:\n",
    "        return False\n",
    "is_two(1)    "
   ]
  },
  {
   "cell_type": "code",
   "execution_count": 32,
   "id": "a4d8ac81",
   "metadata": {},
   "outputs": [
    {
     "data": {
      "text/plain": [
       "False"
      ]
     },
     "execution_count": 32,
     "metadata": {},
     "output_type": "execute_result"
    }
   ],
   "source": [
    "#2Define a function named is_vowel. It should return True if the passed string is a vowel, False otherwise.\n",
    "\n",
    "def is_vowel(v):\n",
    "    if v == 'a' or v =='e' or v =='i' or v =='o' or v == 'u':\n",
    "        return True\n",
    "    else: \n",
    "        return False\n",
    "    \n",
    "is_vowel('z')"
   ]
  },
  {
   "cell_type": "code",
   "execution_count": 8,
   "id": "8858b7e3",
   "metadata": {},
   "outputs": [
    {
     "data": {
      "text/plain": [
       "True"
      ]
     },
     "execution_count": 8,
     "metadata": {},
     "output_type": "execute_result"
    }
   ],
   "source": [
    "# Andrews example\n",
    "\n",
    "list('aeiou')\n",
    "'e'in list('aeiou')\n",
    "def is_vowel(somestring):\n",
    "    if type(somestring) == str:\n",
    "        if len(somestring) == 1:\n",
    "            return somestring.lower() in list('aeiou')\n",
    "        else:\n",
    "            return False\n",
    "    else:\n",
    "        return False\n",
    "is_vowel('a')"
   ]
  },
  {
   "cell_type": "code",
   "execution_count": 36,
   "id": "00d1d39e",
   "metadata": {},
   "outputs": [
    {
     "data": {
      "text/plain": [
       "False"
      ]
     },
     "execution_count": 36,
     "metadata": {},
     "output_type": "execute_result"
    }
   ],
   "source": [
    "#3Define a function named is_consonant. It should return True if the passed string is a consonant, False otherwise. \n",
    "#Use your is_vowel function to accomplish this.\n",
    "\n",
    "def is_consonant(c):\n",
    "    if c == 'a' or c =='e' or c =='i' or c =='o' or c == 'u':\n",
    "        return False\n",
    "    else:\n",
    "        return True\n",
    "is_consonant('a')"
   ]
  },
  {
   "cell_type": "code",
   "execution_count": 12,
   "id": "8e949466",
   "metadata": {},
   "outputs": [
    {
     "data": {
      "text/plain": [
       "True"
      ]
     },
     "execution_count": 12,
     "metadata": {},
     "output_type": "execute_result"
    }
   ],
   "source": [
    "# andrews example \n",
    "\n",
    "def is_consonant(somestring):\n",
    "    if type(somestring) == str:\n",
    "        if len(somestring) == 1 and somestring.isalpha():\n",
    "            return (not is_vowel(somestring))\n",
    "        else:\n",
    "            return False\n",
    "    else:\n",
    "        return False\n",
    "is_consonant('b')"
   ]
  },
  {
   "cell_type": "code",
   "execution_count": 20,
   "id": "5d52a56d",
   "metadata": {},
   "outputs": [
    {
     "data": {
      "text/plain": [
       "True"
      ]
     },
     "execution_count": 20,
     "metadata": {},
     "output_type": "execute_result"
    }
   ],
   "source": [
    "# andrews example\n",
    "def is_consonant2(somestring):\n",
    "    return not is_vowel(somestring)\n",
    "is_consonant2(\"1\")"
   ]
  },
  {
   "cell_type": "code",
   "execution_count": null,
   "id": "cd285a47",
   "metadata": {},
   "outputs": [],
   "source": [
    "def starts_with_vowel(string):\n",
    "  vowel = [\"a\", \"e\", \"i\", \"o\", \"u\", \"A\", \"E\", \"I\", \"O\", \"U\"]\n",
    "  for letter in string:\n",
    "    if letter in vowel and vowel[0]:\n",
    "      return True\n",
    "    else:\n",
    "      return False"
   ]
  },
  {
   "cell_type": "code",
   "execution_count": 63,
   "id": "8273ac90",
   "metadata": {},
   "outputs": [
    {
     "data": {
      "text/plain": [
       "'Tear'"
      ]
     },
     "execution_count": 63,
     "metadata": {},
     "output_type": "execute_result"
    }
   ],
   "source": [
    "#4Define a function that accepts a string that is a word. The function should capitalize the first letter of the word \n",
    "#if the word starts with a consonant. \n",
    "#string_name.capitalize()\n",
    "vowel = [\"a\", \"e\", \"i\", \"o\", \"u\", \"A\", \"E\", \"I\", \"O\", \"U\"]\n",
    "\n",
    "def cap_first_letter(str_word):\n",
    "    for letter in str_word:\n",
    "        if letter in vowel and vowel[0]:\n",
    "            return str_word\n",
    "        else:\n",
    "            return str_word.capitalize()\n",
    "cap_first_letter('tear')"
   ]
  },
  {
   "cell_type": "code",
   "execution_count": 24,
   "id": "1f4cb22e",
   "metadata": {},
   "outputs": [
    {
     "data": {
      "text/plain": [
       "'Tear'"
      ]
     },
     "execution_count": 24,
     "metadata": {},
     "output_type": "execute_result"
    }
   ],
   "source": [
    "def cap_first_letter(str_word):\n",
    "    if type(str_word) == str:\n",
    "        if is_consonant(str_word[0]):\n",
    "            return str_word.capitalize()\n",
    "        else:\n",
    "            return str_word\n",
    "    else:\n",
    "        return str_word\n",
    "\n",
    "cap_first_letter('tear')"
   ]
  },
  {
   "cell_type": "code",
   "execution_count": 69,
   "id": "3cedd54b",
   "metadata": {},
   "outputs": [],
   "source": [
    "#5Define a function named calculate_tip. It should accept a tip percentage (a number between 0 and 1) and the bill \n",
    "#total, and return the amount to tip.\n",
    "def calculate_tip(tip_percentage, bill_total):\n",
    "    return tip_percentage * bill_total"
   ]
  },
  {
   "cell_type": "code",
   "execution_count": 71,
   "id": "d8fe8007",
   "metadata": {},
   "outputs": [
    {
     "data": {
      "text/plain": [
       "10.0"
      ]
     },
     "execution_count": 71,
     "metadata": {},
     "output_type": "execute_result"
    }
   ],
   "source": [
    "calculate_tip(.2, 50)"
   ]
  },
  {
   "cell_type": "code",
   "execution_count": 28,
   "id": "e7ddd02e",
   "metadata": {},
   "outputs": [
    {
     "data": {
      "text/plain": [
       "20"
      ]
     },
     "execution_count": 28,
     "metadata": {},
     "output_type": "execute_result"
    }
   ],
   "source": [
    "def calculate_tip(bill_total, tip_percentage = 0.2):\n",
    "    return tip_percentage * bill_total\n",
    "\n",
    "int(calculate_tip(100))"
   ]
  },
  {
   "cell_type": "code",
   "execution_count": 73,
   "id": "6ae9512d",
   "metadata": {},
   "outputs": [],
   "source": [
    "#6Define a function named apply_discount. It should accept a original price, and a discount percentage, and return \n",
    "#the price after the discount is applied.\n",
    "\n",
    "def apply_discount(original_price, discount_percent):\n",
    "    return original_price - (original_price * discount_percent)"
   ]
  },
  {
   "cell_type": "code",
   "execution_count": 74,
   "id": "ec370440",
   "metadata": {},
   "outputs": [
    {
     "data": {
      "text/plain": [
       "80.0"
      ]
     },
     "execution_count": 74,
     "metadata": {},
     "output_type": "execute_result"
    }
   ],
   "source": [
    "apply_discount(100, .2)"
   ]
  },
  {
   "cell_type": "code",
   "execution_count": null,
   "id": "cbe4384d",
   "metadata": {},
   "outputs": [],
   "source": []
  },
  {
   "cell_type": "code",
   "execution_count": 29,
   "id": "86fadb2d",
   "metadata": {},
   "outputs": [
    {
     "ename": "TypeError",
     "evalue": "handle_commas() takes 1 positional argument but 5 were given",
     "output_type": "error",
     "traceback": [
      "\u001b[0;31m---------------------------------------------------------------------------\u001b[0m",
      "\u001b[0;31mTypeError\u001b[0m                                 Traceback (most recent call last)",
      "Input \u001b[0;32mIn [29]\u001b[0m, in \u001b[0;36m<cell line: 7>\u001b[0;34m()\u001b[0m\n\u001b[1;32m      4\u001b[0m \u001b[38;5;28;01mdef\u001b[39;00m \u001b[38;5;21mhandle_commas\u001b[39m(number_as_string):\n\u001b[1;32m      5\u001b[0m     \u001b[38;5;28;01mreturn\u001b[39;00m number_as_string\u001b[38;5;241m.\u001b[39mreplace(\u001b[38;5;124m'\u001b[39m\u001b[38;5;124m,\u001b[39m\u001b[38;5;124m'\u001b[39m,\u001b[38;5;124m'\u001b[39m\u001b[38;5;124m'\u001b[39m)\n\u001b[0;32m----> 7\u001b[0m \u001b[43mhandle_commas\u001b[49m\u001b[43m(\u001b[49m\u001b[38;5;241;43m1\u001b[39;49m\u001b[43m,\u001b[49m\u001b[38;5;241;43m2\u001b[39;49m\u001b[43m,\u001b[49m\u001b[38;5;241;43m3\u001b[39;49m\u001b[43m,\u001b[49m\u001b[38;5;241;43m4\u001b[39;49m\u001b[43m,\u001b[49m\u001b[38;5;241;43m5\u001b[39;49m\u001b[43m,\u001b[49m\u001b[43m)\u001b[49m\n",
      "\u001b[0;31mTypeError\u001b[0m: handle_commas() takes 1 positional argument but 5 were given"
     ]
    }
   ],
   "source": [
    "#7Define a function named handle_commas. It should accept a string that is a number that contains commas in it as \n",
    "#input, and return a number as output.\n",
    "\n",
    "def handle_commas(number_as_string):\n",
    "    return number_as_string.replace(',','')\n",
    "\n",
    "handle_commas(1,2,3,4,5,)"
   ]
  },
  {
   "cell_type": "code",
   "execution_count": 78,
   "id": "7d1dab57",
   "metadata": {},
   "outputs": [
    {
     "data": {
      "text/plain": [
       "'1000000'"
      ]
     },
     "execution_count": 78,
     "metadata": {},
     "output_type": "execute_result"
    }
   ],
   "source": [
    "handle_commas('1000,000')"
   ]
  },
  {
   "cell_type": "code",
   "execution_count": 34,
   "id": "dadc93cf",
   "metadata": {},
   "outputs": [],
   "source": [
    "#Andrews example\n",
    "def handle_comma(fakenum):\n",
    "\n",
    "    if type(fakenum) == str:\n",
    "        return int(fakenum.replace(',', ''))\n",
    "    else:\n",
    "        return fakenum"
   ]
  },
  {
   "cell_type": "code",
   "execution_count": 81,
   "id": "e5c73b66",
   "metadata": {},
   "outputs": [
    {
     "name": "stdout",
     "output_type": "stream",
     "text": [
      "B\n"
     ]
    }
   ],
   "source": [
    "#8Define a function named get_letter_grade. It should accept a number and return the letter grade associated with \n",
    "#that number (A-F).\n",
    "def get_letter_grade(number):\n",
    "    grade = int(number)\n",
    "    if grade>=90:\n",
    "        print('A')\n",
    "    elif grade>=80:\n",
    "        print('B')\n",
    "    elif grade>=70:\n",
    "        print('C')\n",
    "    elif grade>=60:\n",
    "        print('D')\n",
    "    else:\n",
    "        print('F')\n",
    "\n",
    "get_letter_grade(88)"
   ]
  },
  {
   "cell_type": "code",
   "execution_count": 85,
   "id": "ee46a4b4",
   "metadata": {},
   "outputs": [
    {
     "data": {
      "text/plain": [
       "'Sq'"
      ]
     },
     "execution_count": 85,
     "metadata": {},
     "output_type": "execute_result"
    }
   ],
   "source": [
    "#9Define a function named remove_vowels that accepts a string and returns a string with all the vowels removed.\n",
    "\n",
    "def remove_vowels(string):\n",
    "    vowel = \"aeiouAEIOU\"\n",
    "    for letter in string:\n",
    "        if letter in vowel:\n",
    "            string = string.replace(letter, \"\")\n",
    "    return string\n",
    "remove_vowels('Sequoia')"
   ]
  },
  {
   "cell_type": "code",
   "execution_count": null,
   "id": "3884d9a5",
   "metadata": {},
   "outputs": [],
   "source": [
    "# Andrew example\n",
    "\n",
    "def remove_vowels(vowel_word):\n",
    "    new_word = ''\n",
    "    for letter in vowel_word:\n",
    "        if not is_vowel(letter):\n",
    "            new_word += letter\n",
    "    return new_word"
   ]
  },
  {
   "cell_type": "code",
   "execution_count": 89,
   "id": "14bd3675",
   "metadata": {},
   "outputs": [],
   "source": [
    "#10Define a function named normalize_name. It should accept a string and return a valid python identifier, that is:\n",
    "#anything that is not a valid python identifier should be removed\n",
    "#leading and trailing whitespace should be removed\n",
    "#everything should be lowercase\n",
    "#spaces should be replaced with underscores\n",
    "#for example:\n",
    "#Name will become name\n",
    "#First Name will become first_name\n",
    "#% Completed will become completed\n",
    "\n",
    "def normalize_name(string):\n",
    "    string = string.strip()\n",
    "    string = string.lower()\n",
    "    string = string.replace(' ','_')\n",
    "\n",
    "    return(string)\n"
   ]
  },
  {
   "cell_type": "code",
   "execution_count": 35,
   "id": "e3f85b4e",
   "metadata": {
    "scrolled": false
   },
   "outputs": [
    {
     "ename": "NameError",
     "evalue": "name 'normalize_name' is not defined",
     "output_type": "error",
     "traceback": [
      "\u001b[0;31m---------------------------------------------------------------------------\u001b[0m",
      "\u001b[0;31mNameError\u001b[0m                                 Traceback (most recent call last)",
      "Input \u001b[0;32mIn [35]\u001b[0m, in \u001b[0;36m<cell line: 1>\u001b[0;34m()\u001b[0m\n\u001b[0;32m----> 1\u001b[0m \u001b[43mnormalize_name\u001b[49m(\u001b[38;5;124m'\u001b[39m\u001b[38;5;124m  \u001b[39m\u001b[38;5;124m%\u001b[39m\u001b[38;5;124mTree house  \u001b[39m\u001b[38;5;124m'\u001b[39m)\n",
      "\u001b[0;31mNameError\u001b[0m: name 'normalize_name' is not defined"
     ]
    }
   ],
   "source": [
    "normalize_name('  %Tree house  ')"
   ]
  },
  {
   "cell_type": "code",
   "execution_count": 1,
   "id": "c6330bee",
   "metadata": {},
   "outputs": [
    {
     "data": {
      "text/plain": [
       "'dirtbg19837'"
      ]
     },
     "execution_count": 1,
     "metadata": {},
     "output_type": "execute_result"
    }
   ],
   "source": [
    "# Andrews example\n",
    "\n",
    "def normalize_name(somestring):\n",
    "    newstring = ''\n",
    "    # for loop to grab all for letter, numbers, and spaces.\n",
    "    for letter in somestring:\n",
    "        if letter.isalnum() or letter == ' ':\n",
    "            newstring += letter\n",
    "    # for loops to check if leading character is a letter.\n",
    "    for letter in newstring:\n",
    "        if letter.isalpha():\n",
    "            break\n",
    "        else:\n",
    "            newstring = newstring[1:]\n",
    "    return newstring.strip().lower().replace(' ', '_')\n",
    "    \n",
    "normalize_name('  $DirtB@g19837.   ')"
   ]
  },
  {
   "cell_type": "code",
   "execution_count": 97,
   "id": "6a3159ea",
   "metadata": {},
   "outputs": [
    {
     "data": {
      "text/plain": [
       "[1, 2, 3]"
      ]
     },
     "execution_count": 97,
     "metadata": {},
     "output_type": "execute_result"
    }
   ],
   "source": [
    "#11Write a function named cumulative_sum that accepts a list of numbers and returns a list that is the cumulative sum \n",
    "#of the numbers in the list.\n",
    "#cumulative_sum([1, 1, 1]) returns [1, 2, 3]\n",
    "#cumulative_sum([1, 2, 3, 4]) returns [1, 3, 6, 10]\n",
    "#Additional Exercise\n",
    "#Once you've completed the above exercises, follow the directions from \n",
    "# https://gist.github.com/zgulde/ec8ed80ad8216905cda83d5645c60886 \n",
    "#in order to thouroughly comment your code to explain your code.\n",
    "\n",
    "def cumulative_sum(lists):\n",
    "    cum_list = []\n",
    "    length = len(lists)\n",
    "    cu_list = [sum(lists[0:x:1]) for x in range(0, length+1)]\n",
    "    return cu_list[1:]\n",
    " \n",
    "\n",
    "cumulative_sum([1, 1, 1])"
   ]
  },
  {
   "cell_type": "code",
   "execution_count": 39,
   "id": "071776a0",
   "metadata": {},
   "outputs": [
    {
     "data": {
      "text/plain": [
       "[1, 2, 3]"
      ]
     },
     "execution_count": 39,
     "metadata": {},
     "output_type": "execute_result"
    }
   ],
   "source": [
    "def cumulative_sum(oldlist):\n",
    "    newlist = []\n",
    "    for i in range(1,len(oldlist)+1):\n",
    "        cumsum = sum(oldlist[:i])\n",
    "        newlist.append(cumsum)\n",
    "    return newlist\n",
    " \n",
    "cumulative_sum([1, 1, 1])"
   ]
  },
  {
   "cell_type": "code",
   "execution_count": null,
   "id": "0256b460",
   "metadata": {},
   "outputs": [],
   "source": [
    "#Bonus\n",
    "#Create a function named twelveto24. It should accept a string in the format 10:45am or 4:30pm and return a string that is the representation of the time in a 24-hour format. Bonus write a function that does the opposite.\n",
    "#Create a function named col_index. It should accept a spreadsheet column name, and return the index number of the column.\n",
    "#col_index('A') returns 1\n",
    "#col_index('B') returns 2\n",
    "#col_index('AA') returns 27"
   ]
  }
 ],
 "metadata": {
  "kernelspec": {
   "display_name": "Python 3 (ipykernel)",
   "language": "python",
   "name": "python3"
  },
  "language_info": {
   "codemirror_mode": {
    "name": "ipython",
    "version": 3
   },
   "file_extension": ".py",
   "mimetype": "text/x-python",
   "name": "python",
   "nbconvert_exporter": "python",
   "pygments_lexer": "ipython3",
   "version": "3.9.12"
  }
 },
 "nbformat": 4,
 "nbformat_minor": 5
}

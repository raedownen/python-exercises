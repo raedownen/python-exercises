{
 "cells": [
  {
   "cell_type": "code",
   "execution_count": 15,
   "id": "74f963e4",
   "metadata": {},
   "outputs": [
    {
     "data": {
      "text/plain": [
       "False"
      ]
     },
     "execution_count": 15,
     "metadata": {},
     "output_type": "execute_result"
    }
   ],
   "source": [
    "#1 Define a function named is_two. It should accept one input and return True if the passed input is either \n",
    "#the number or the string 2, False otherwise.\n",
    "\n",
    "def is_two(n):\n",
    "    if n ==2 or n == '2':\n",
    "        return True\n",
    "    else:\n",
    "        return False\n",
    "is_two(1)    "
   ]
  },
  {
   "cell_type": "code",
   "execution_count": 32,
   "id": "a4d8ac81",
   "metadata": {},
   "outputs": [
    {
     "data": {
      "text/plain": [
       "False"
      ]
     },
     "execution_count": 32,
     "metadata": {},
     "output_type": "execute_result"
    }
   ],
   "source": [
    "#2Define a function named is_vowel. It should return True if the passed string is a vowel, False otherwise.\n",
    "\n",
    "def is_vowel(v):\n",
    "    if v == 'a' or v =='e' or v =='i' or v =='o' or v == 'u':\n",
    "        return True\n",
    "    else: \n",
    "        return False\n",
    "    \n",
    "is_vowel('z')"
   ]
  },
  {
   "cell_type": "code",
   "execution_count": 36,
   "id": "00d1d39e",
   "metadata": {},
   "outputs": [
    {
     "data": {
      "text/plain": [
       "False"
      ]
     },
     "execution_count": 36,
     "metadata": {},
     "output_type": "execute_result"
    }
   ],
   "source": [
    "#3Define a function named is_consonant. It should return True if the passed string is a consonant, False otherwise. \n",
    "#Use your is_vowel function to accomplish this.\n",
    "\n",
    "def is_consonant(c):\n",
    "    if c == 'a' or c =='e' or c =='i' or c =='o' or c == 'u':\n",
    "        return False\n",
    "    else:\n",
    "        return True\n",
    "is_consonant('a')"
   ]
  },
  {
   "cell_type": "code",
   "execution_count": null,
   "id": "cd285a47",
   "metadata": {},
   "outputs": [],
   "source": [
    "def starts_with_vowel(string):\n",
    "  vowel = [\"a\", \"e\", \"i\", \"o\", \"u\", \"A\", \"E\", \"I\", \"O\", \"U\"]\n",
    "  for letter in string:\n",
    "    if letter in vowel and vowel[0]:\n",
    "      return True\n",
    "    else:\n",
    "      return False"
   ]
  },
  {
   "cell_type": "code",
   "execution_count": 63,
   "id": "8273ac90",
   "metadata": {},
   "outputs": [
    {
     "data": {
      "text/plain": [
       "'Tear'"
      ]
     },
     "execution_count": 63,
     "metadata": {},
     "output_type": "execute_result"
    }
   ],
   "source": [
    "#4Define a function that accepts a string that is a word. The function should capitalize the first letter of the word \n",
    "#if the word starts with a consonant. \n",
    "#string_name.capitalize()\n",
    "vowel = [\"a\", \"e\", \"i\", \"o\", \"u\", \"A\", \"E\", \"I\", \"O\", \"U\"]\n",
    "\n",
    "def cap_first_letter(str_word):\n",
    "    for letter in str_word:\n",
    "        if letter in vowel and vowel[0]:\n",
    "            return str_word\n",
    "        else:\n",
    "            return str_word.capitalize()\n",
    "cap_first_letter('tear')"
   ]
  },
  {
   "cell_type": "code",
   "execution_count": 69,
   "id": "3cedd54b",
   "metadata": {},
   "outputs": [],
   "source": [
    "#5Define a function named calculate_tip. It should accept a tip percentage (a number between 0 and 1) and the bill \n",
    "#total, and return the amount to tip.\n",
    "def calculate_tip(tip_percentage, bill_total):\n",
    "    return tip_percentage * bill_total"
   ]
  },
  {
   "cell_type": "code",
   "execution_count": 71,
   "id": "d8fe8007",
   "metadata": {},
   "outputs": [
    {
     "data": {
      "text/plain": [
       "10.0"
      ]
     },
     "execution_count": 71,
     "metadata": {},
     "output_type": "execute_result"
    }
   ],
   "source": [
    "calculate_tip(.2, 50)"
   ]
  },
  {
   "cell_type": "code",
   "execution_count": 73,
   "id": "6ae9512d",
   "metadata": {},
   "outputs": [],
   "source": [
    "#6Define a function named apply_discount. It should accept a original price, and a discount percentage, and return \n",
    "#the price after the discount is applied.\n",
    "\n",
    "def apply_discount(original_price, discount_percent):\n",
    "    return original_price - (original_price * discount_percent)"
   ]
  },
  {
   "cell_type": "code",
   "execution_count": 74,
   "id": "ec370440",
   "metadata": {},
   "outputs": [
    {
     "data": {
      "text/plain": [
       "80.0"
      ]
     },
     "execution_count": 74,
     "metadata": {},
     "output_type": "execute_result"
    }
   ],
   "source": [
    "apply_discount(100, .2)"
   ]
  },
  {
   "cell_type": "code",
   "execution_count": 77,
   "id": "86fadb2d",
   "metadata": {},
   "outputs": [],
   "source": [
    "#7Define a function named handle_commas. It should accept a string that is a number that contains commas in it as \n",
    "#input, and return a number as output.\n",
    "\n",
    "def handle_commas(number_as_string):\n",
    "    return number_as_string.replace(',','')"
   ]
  },
  {
   "cell_type": "code",
   "execution_count": null,
   "id": "aafd52dd",
   "metadata": {},
   "outputs": [],
   "source": [
    "#USE str.replace() TO REMOVE A COMMA FROM A STRING IN PYTHON\n",
    "#Call str.replace(',', '') to replace every instance of a ',' in str with ''."
   ]
  },
  {
   "cell_type": "code",
   "execution_count": 78,
   "id": "7d1dab57",
   "metadata": {},
   "outputs": [
    {
     "data": {
      "text/plain": [
       "'1000000'"
      ]
     },
     "execution_count": 78,
     "metadata": {},
     "output_type": "execute_result"
    }
   ],
   "source": [
    "handle_commas('1000,000')"
   ]
  },
  {
   "cell_type": "code",
   "execution_count": 81,
   "id": "e5c73b66",
   "metadata": {},
   "outputs": [
    {
     "name": "stdout",
     "output_type": "stream",
     "text": [
      "B\n"
     ]
    }
   ],
   "source": [
    "#8Define a function named get_letter_grade. It should accept a number and return the letter grade associated with \n",
    "#that number (A-F).\n",
    "def get_letter_grade(number):\n",
    "    grade = int(number)\n",
    "    if grade>=90:\n",
    "        print('A')\n",
    "    elif grade>=80:\n",
    "        print('B')\n",
    "    elif grade>=70:\n",
    "        print('C')\n",
    "    elif grade>=60:\n",
    "        print('D')\n",
    "    else:\n",
    "        print('F')\n",
    "\n",
    "get_letter_grade(88)"
   ]
  },
  {
   "cell_type": "code",
   "execution_count": 85,
   "id": "ee46a4b4",
   "metadata": {},
   "outputs": [
    {
     "data": {
      "text/plain": [
       "'Sq'"
      ]
     },
     "execution_count": 85,
     "metadata": {},
     "output_type": "execute_result"
    }
   ],
   "source": [
    "#9Define a function named remove_vowels that accepts a string and returns a string with all the vowels removed.\n",
    "\n",
    "def remove_vowels(string):\n",
    "    vowel = \"aeiouAEIOU\"\n",
    "    for letter in string:\n",
    "        if letter in vowel:\n",
    "            string = string.replace(letter, \"\")\n",
    "    return string\n",
    "remove_vowels('Sequoia')"
   ]
  },
  {
   "cell_type": "code",
   "execution_count": 89,
   "id": "14bd3675",
   "metadata": {},
   "outputs": [],
   "source": [
    "#10Define a function named normalize_name. It should accept a string and return a valid python identifier, that is:\n",
    "#anything that is not a valid python identifier should be removed\n",
    "#leading and trailing whitespace should be removed\n",
    "#everything should be lowercase\n",
    "#spaces should be replaced with underscores\n",
    "#for example:\n",
    "#Name will become name\n",
    "#First Name will become first_name\n",
    "#% Completed will become completed\n",
    "\n",
    "def normalize_name(string):\n",
    "    string = string.strip()\n",
    "    string = string.lower()\n",
    "    string = string.replace(' ','_')\n",
    "\n",
    "    return(string)\n"
   ]
  },
  {
   "cell_type": "code",
   "execution_count": 90,
   "id": "e3f85b4e",
   "metadata": {
    "scrolled": true
   },
   "outputs": [
    {
     "data": {
      "text/plain": [
       "'tree_house'"
      ]
     },
     "execution_count": 90,
     "metadata": {},
     "output_type": "execute_result"
    }
   ],
   "source": [
    "normalize_name('  Tree house  ')"
   ]
  },
  {
   "cell_type": "code",
   "execution_count": null,
   "id": "fdd40e0f",
   "metadata": {},
   "outputs": [],
   "source": [
    "def Cumulative(lists):\n",
    "    cu_list = []\n",
    "    length = len(lists)\n",
    "    cu_list = [sum(lists[0:x:1]) for x in range(0, length+1)]\n",
    "    return cu_list[1:]"
   ]
  },
  {
   "cell_type": "code",
   "execution_count": null,
   "id": "1cf453a3",
   "metadata": {},
   "outputs": [],
   "source": [
    "def Cumulative(lists):\n",
    "    cu_list = []\n",
    "    length = len(lists)\n",
    "    cu_list = [sum(lists[0:x:1]) for x in range(0, length+1)]\n",
    "    return cu_list[1:]"
   ]
  },
  {
   "cell_type": "code",
   "execution_count": 97,
   "id": "6a3159ea",
   "metadata": {},
   "outputs": [
    {
     "data": {
      "text/plain": [
       "[1, 2, 3]"
      ]
     },
     "execution_count": 97,
     "metadata": {},
     "output_type": "execute_result"
    }
   ],
   "source": [
    "#11Write a function named cumulative_sum that accepts a list of numbers and returns a list that is the cumulative sum \n",
    "#of the numbers in the list.\n",
    "#cumulative_sum([1, 1, 1]) returns [1, 2, 3]\n",
    "#cumulative_sum([1, 2, 3, 4]) returns [1, 3, 6, 10]\n",
    "#Additional Exercise\n",
    "#Once you've completed the above exercises, follow the directions from \n",
    "# https://gist.github.com/zgulde/ec8ed80ad8216905cda83d5645c60886 \n",
    "#in order to thouroughly comment your code to explain your code.\n",
    "\n",
    "def cumulative_sum(lists):\n",
    "    cum_list = []\n",
    "    length = len(lists)\n",
    "    cu_list = [sum(lists[0:x:1]) for x in range(0, length+1)]\n",
    "    return cu_list[1:]\n",
    " \n",
    "\n",
    "cumulative_sum([1, 1, 1])"
   ]
  },
  {
   "cell_type": "code",
   "execution_count": null,
   "id": "0256b460",
   "metadata": {},
   "outputs": [],
   "source": [
    "#Bonus\n",
    "#Create a function named twelveto24. It should accept a string in the format 10:45am or 4:30pm and return a string that is the representation of the time in a 24-hour format. Bonus write a function that does the opposite.\n",
    "#Create a function named col_index. It should accept a spreadsheet column name, and return the index number of the column.\n",
    "#col_index('A') returns 1\n",
    "#col_index('B') returns 2\n",
    "#col_index('AA') returns 27"
   ]
  }
 ],
 "metadata": {
  "kernelspec": {
   "display_name": "Python 3 (ipykernel)",
   "language": "python",
   "name": "python3"
  },
  "language_info": {
   "codemirror_mode": {
    "name": "ipython",
    "version": 3
   },
   "file_extension": ".py",
   "mimetype": "text/x-python",
   "name": "python",
   "nbconvert_exporter": "python",
   "pygments_lexer": "ipython3",
   "version": "3.9.12"
  }
 },
 "nbformat": 4,
 "nbformat_minor": 5
}

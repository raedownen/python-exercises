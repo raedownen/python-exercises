{
 "cells": [
  {
   "cell_type": "code",
   "execution_count": 2,
   "id": "c5ad9a2d",
   "metadata": {},
   "outputs": [
    {
     "name": "stdout",
     "output_type": "stream",
     "text": [
      "What day is today?:\n",
      "Sunday\n",
      "It is definitely not Monday!\n"
     ]
    }
   ],
   "source": [
    "#1.Conditional Basics\n",
    "\n",
    "#a. prompt the user for a day of the week, print out whether the day is Monday or not\n",
    "day_of_week = input(\"What day is today?:\\n\")\n",
    "if day_of_week == \"Monday\":\n",
    "    print(\"Yes, it is Monday!\")\n",
    "else:\n",
    "    print(\"It is definitely not Monday!\")\n",
    "    \n"
   ]
  },
  {
   "cell_type": "code",
   "execution_count": 3,
   "id": "5887c3ed",
   "metadata": {},
   "outputs": [
    {
     "name": "stdout",
     "output_type": "stream",
     "text": [
      "What day is today?:\n",
      "Saturday\n",
      "It is definitely the weekend!\n"
     ]
    }
   ],
   "source": [
    "# 1b. prompt the user for a day of the week, print out whether the day is a weekday or a weekend\n",
    "day_of_week = input(\"What day is today?:\\n\")\n",
    "if day_of_week == ('Monday' or 'Tuesday' or 'Wednesday' or 'Thursday' or 'Friday'):\n",
    "    print(\"Yes, it is weekday!\")\n",
    "else:\n",
    "    print(\"It is definitely the weekend!\")\n",
    "\n"
   ]
  },
  {
   "cell_type": "code",
   "execution_count": 6,
   "id": "5062babe",
   "metadata": {},
   "outputs": [
    {
     "data": {
      "text/plain": [
       "7000"
      ]
     },
     "execution_count": 6,
     "metadata": {},
     "output_type": "execute_result"
    }
   ],
   "source": [
    "#1c. create variables and make up values for it \n",
    "#the number of hours worked in one week\n",
    "#the hourly rate\n",
    "#how much the week's paycheck will be\n",
    "#write the python code that calculates the weekly paycheck. You get paid time and a half if you work more than 40 hours\n",
    "weekly_hours = 40\n",
    "hourly_rate = 100\n",
    "overtime_hours = 20\n",
    "overtime_rate = 150\n",
    "weekly_paycheck = (weekly_hours * hourly_rate) + (overtime_hours * overtime_rate)\n",
    "weekly_paycheck"
   ]
  },
  {
   "cell_type": "code",
   "execution_count": 7,
   "id": "b3b1757e",
   "metadata": {},
   "outputs": [
    {
     "name": "stdout",
     "output_type": "stream",
     "text": [
      "5\n",
      "6\n",
      "7\n",
      "8\n",
      "9\n",
      "10\n",
      "11\n",
      "12\n",
      "13\n",
      "14\n",
      "15\n"
     ]
    }
   ],
   "source": [
    "#2. Loop Basics\n",
    "#a. While\n",
    "#Create an integer variable i with a value of 5. Create a while loop that runs so long as i is less than or equal to 15. \n",
    "# Each loop iteration, output the current value of i, then increment i by one.\n",
    "# initialize variable at 5 to start at 5\n",
    "#while starts the loop and while the condition is true is iterates \n",
    "#start is 5 and end is 15\n",
    "# while it is less than 15 it will iterate and then stop at 15\n",
    " #it prints each iterate + 1\n",
    "\n",
    "i = 5\n",
    "while i <= 15:\n",
    "\n",
    "    print(i)\n",
    "   \n",
    "    i += 1\n"
   ]
  },
  {
   "cell_type": "code",
   "execution_count": 8,
   "id": "c8a2f66d",
   "metadata": {},
   "outputs": [
    {
     "name": "stdout",
     "output_type": "stream",
     "text": [
      "0\n",
      "2\n",
      "4\n",
      "6\n",
      "8\n",
      "10\n",
      "12\n",
      "14\n",
      "16\n",
      "18\n",
      "20\n",
      "22\n",
      "24\n",
      "26\n",
      "28\n",
      "30\n",
      "32\n",
      "34\n",
      "36\n",
      "38\n",
      "40\n",
      "42\n",
      "44\n",
      "46\n",
      "48\n",
      "50\n",
      "52\n",
      "54\n",
      "56\n",
      "58\n",
      "60\n",
      "62\n",
      "64\n",
      "66\n",
      "68\n",
      "70\n",
      "72\n",
      "74\n",
      "76\n",
      "78\n",
      "80\n",
      "82\n",
      "84\n",
      "86\n",
      "88\n",
      "90\n",
      "92\n",
      "94\n",
      "96\n",
      "98\n",
      "100\n"
     ]
    }
   ],
   "source": [
    "#Create a while loop that will count by 2's starting with 0 and ending at 100. Follow each number with a new line.\n",
    "i = 0\n",
    "while i <= 100:\n",
    "    print(i)\n",
    "    i += 2\n"
   ]
  },
  {
   "cell_type": "code",
   "execution_count": 150,
   "id": "487a6985",
   "metadata": {},
   "outputs": [
    {
     "name": "stdout",
     "output_type": "stream",
     "text": [
      "100\n",
      "95\n",
      "90\n",
      "85\n",
      "80\n",
      "75\n",
      "70\n",
      "65\n",
      "60\n",
      "55\n",
      "50\n",
      "45\n",
      "40\n",
      "35\n",
      "30\n",
      "25\n",
      "20\n",
      "15\n",
      "10\n",
      "5\n",
      "0\n",
      "-5\n",
      "-10\n"
     ]
    }
   ],
   "source": [
    "#Alter your loop to count backwards by 5's from 100 to -10.\n",
    "n = 100\n",
    "\n",
    "while n >= -10:\n",
    "    print(n)\n",
    "    n -= 5"
   ]
  },
  {
   "cell_type": "code",
   "execution_count": 151,
   "id": "853c2730",
   "metadata": {},
   "outputs": [
    {
     "name": "stdout",
     "output_type": "stream",
     "text": [
      "2\n",
      "4\n",
      "16\n",
      "256\n",
      "65536\n"
     ]
    }
   ],
   "source": [
    "#Create a while loop that starts at 2, and displays the number squared on each line while the number is less than 1,000,000. Output should equal:\n",
    "\n",
    "n = 2\n",
    "\n",
    "while n < 1000000:\n",
    "    print(n)\n",
    "    n **= 2"
   ]
  },
  {
   "cell_type": "code",
   "execution_count": 152,
   "id": "5d9a8df7",
   "metadata": {},
   "outputs": [
    {
     "name": "stdout",
     "output_type": "stream",
     "text": [
      "100\n",
      "95\n",
      "90\n",
      "85\n",
      "80\n",
      "75\n",
      "70\n",
      "65\n",
      "60\n",
      "55\n",
      "50\n",
      "45\n",
      "40\n",
      "35\n",
      "30\n",
      "25\n",
      "20\n",
      "15\n",
      "10\n",
      "5\n"
     ]
    }
   ],
   "source": [
    "#Write a loop that uses print to create the output shown below.\n",
    "n = 100\n",
    "while n > 4:\n",
    "    print (n)\n",
    "    n -= 5\n"
   ]
  },
  {
   "cell_type": "code",
   "execution_count": 154,
   "id": "e0bb3112",
   "metadata": {},
   "outputs": [
    {
     "name": "stdout",
     "output_type": "stream",
     "text": [
      "Display multiplication table of: 5\n",
      "5 x 1 = 5\n",
      "5 x 2 = 10\n",
      "5 x 3 = 15\n",
      "5 x 4 = 20\n",
      "5 x 5 = 25\n",
      "5 x 6 = 30\n",
      "5 x 7 = 35\n",
      "5 x 8 = 40\n",
      "5 x 9 = 45\n",
      "5 x 10 = 50\n"
     ]
    }
   ],
   "source": [
    "#b. For Loops\n",
    "#i. Write some code that prompts the user for a number, then shows a multiplication table up through 10 for that number.\n",
    "\n",
    "num = int(input(\"Display multiplication table of: \"))\n",
    "\n",
    "for i in range(1, 11):\n",
    "   print(num, 'x', i, '=', num*i)"
   ]
  },
  {
   "cell_type": "code",
   "execution_count": 106,
   "id": "305e5892",
   "metadata": {},
   "outputs": [
    {
     "name": "stdout",
     "output_type": "stream",
     "text": [
      "1\n",
      "22\n",
      "333\n",
      "4444\n",
      "55555\n",
      "666666\n",
      "7777777\n",
      "88888888\n",
      "999999999\n"
     ]
    }
   ],
   "source": [
    "#ii.  Create a for loop that uses print to create the output shown below.\n",
    "\n",
    "for i in range(1, 10):\n",
    "    print((str(i)*i))"
   ]
  },
  {
   "cell_type": "code",
   "execution_count": 157,
   "id": "a67849e5",
   "metadata": {},
   "outputs": [
    {
     "name": "stdout",
     "output_type": "stream",
     "text": [
      "Enter a positive integer: 34\n",
      "33\n",
      "32\n",
      "31\n",
      "30\n",
      "29\n",
      "28\n",
      "27\n",
      "26\n",
      "25\n",
      "24\n",
      "23\n",
      "22\n",
      "21\n",
      "20\n",
      "19\n",
      "18\n",
      "17\n",
      "16\n",
      "15\n",
      "14\n",
      "13\n",
      "12\n",
      "11\n",
      "10\n",
      "9\n",
      "8\n",
      "7\n",
      "6\n",
      "5\n",
      "4\n",
      "3\n",
      "2\n",
      "1\n"
     ]
    }
   ],
   "source": [
    "#c. break and continue\n",
    "#i. Write a program that prompts the user for a positive integer. Next write a loop that prints out the numbers from the number the user entered down to 1.\n",
    "n = int(input(\"Enter a positive integer: \"))\n",
    "while n > 1:\n",
    "    n -= 1\n",
    "    print(n)\n"
   ]
  },
  {
   "cell_type": "code",
   "execution_count": 169,
   "id": "5da8c806",
   "metadata": {
    "scrolled": true
   },
   "outputs": [
    {
     "name": "stdout",
     "output_type": "stream",
     "text": [
      "Enter a positive number: 5\n",
      "0\n",
      "1\n",
      "2\n",
      "3\n",
      "4\n",
      "5\n"
     ]
    }
   ],
   "source": [
    "#ii. The input function can be used to prompt for input and use that input in your python code. Prompt the user to enter a positive number \n",
    "# and write a loop that counts from 0 to that number. (Hints: first make sure that the value the user entered is a valid number, \n",
    "# also note that the input function returns a string, so you'll need to convert this to a numeric type.)\n",
    "num = int(input('Enter a positive number: '))\n",
    "\n",
    "if num > 0:\n",
    "    i = 0\n",
    "while i <= num:\n",
    "    print(i)\n",
    "    i += 1\n"
   ]
  },
  {
   "cell_type": "code",
   "execution_count": 337,
   "id": "07fb9971",
   "metadata": {},
   "outputs": [
    {
     "ename": "KeyboardInterrupt",
     "evalue": "Interrupted by user",
     "output_type": "error",
     "traceback": [
      "\u001b[0;31m---------------------------------------------------------------------------\u001b[0m",
      "\u001b[0;31mKeyboardInterrupt\u001b[0m                         Traceback (most recent call last)",
      "Input \u001b[0;32mIn [337]\u001b[0m, in \u001b[0;36m<cell line: 6>\u001b[0;34m()\u001b[0m\n\u001b[1;32m      1\u001b[0m \u001b[38;5;66;03m#iii. Prompt the user for an odd number between 1 and 50. Use a loop and a break statement to continue prompting \u001b[39;00m\n\u001b[1;32m      2\u001b[0m \u001b[38;5;66;03m#the user if they enter invalid input. (Hint: use the isdigit method on strings to determine this). \u001b[39;00m\n\u001b[1;32m      3\u001b[0m \u001b[38;5;66;03m#Use a loop and the continue statement to output all the odd numbers between 1 and 50, \u001b[39;00m\n\u001b[1;32m      4\u001b[0m \u001b[38;5;66;03m# except for the number the user entered. #(string.isdigit())\u001b[39;00m\n\u001b[1;32m      5\u001b[0m \u001b[38;5;28;01mwhile\u001b[39;00m \u001b[38;5;28;01mTrue\u001b[39;00m:\n\u001b[0;32m----> 6\u001b[0m   n \u001b[38;5;241m=\u001b[39m \u001b[38;5;28;43minput\u001b[39;49m\u001b[43m(\u001b[49m\u001b[38;5;124;43m'\u001b[39;49m\u001b[38;5;124;43mEnter an odd number between 1 and 50: \u001b[39;49m\u001b[38;5;124;43m'\u001b[39;49m\u001b[43m)\u001b[49m\n\u001b[1;32m      8\u001b[0m   \u001b[38;5;28;01mif\u001b[39;00m n\u001b[38;5;241m.\u001b[39misdigit():\n\u001b[1;32m      9\u001b[0m       num \u001b[38;5;241m=\u001b[39m \u001b[38;5;28mint\u001b[39m(n)\n",
      "File \u001b[0;32m/opt/homebrew/anaconda3/lib/python3.9/site-packages/ipykernel/kernelbase.py:1075\u001b[0m, in \u001b[0;36mKernel.raw_input\u001b[0;34m(self, prompt)\u001b[0m\n\u001b[1;32m   1071\u001b[0m \u001b[38;5;28;01mif\u001b[39;00m \u001b[38;5;129;01mnot\u001b[39;00m \u001b[38;5;28mself\u001b[39m\u001b[38;5;241m.\u001b[39m_allow_stdin:\n\u001b[1;32m   1072\u001b[0m     \u001b[38;5;28;01mraise\u001b[39;00m StdinNotImplementedError(\n\u001b[1;32m   1073\u001b[0m         \u001b[38;5;124m\"\u001b[39m\u001b[38;5;124mraw_input was called, but this frontend does not support input requests.\u001b[39m\u001b[38;5;124m\"\u001b[39m\n\u001b[1;32m   1074\u001b[0m     )\n\u001b[0;32m-> 1075\u001b[0m \u001b[38;5;28;01mreturn\u001b[39;00m \u001b[38;5;28;43mself\u001b[39;49m\u001b[38;5;241;43m.\u001b[39;49m\u001b[43m_input_request\u001b[49m\u001b[43m(\u001b[49m\n\u001b[1;32m   1076\u001b[0m \u001b[43m    \u001b[49m\u001b[38;5;28;43mstr\u001b[39;49m\u001b[43m(\u001b[49m\u001b[43mprompt\u001b[49m\u001b[43m)\u001b[49m\u001b[43m,\u001b[49m\n\u001b[1;32m   1077\u001b[0m \u001b[43m    \u001b[49m\u001b[38;5;28;43mself\u001b[39;49m\u001b[38;5;241;43m.\u001b[39;49m\u001b[43m_parent_ident\u001b[49m\u001b[43m[\u001b[49m\u001b[38;5;124;43m\"\u001b[39;49m\u001b[38;5;124;43mshell\u001b[39;49m\u001b[38;5;124;43m\"\u001b[39;49m\u001b[43m]\u001b[49m\u001b[43m,\u001b[49m\n\u001b[1;32m   1078\u001b[0m \u001b[43m    \u001b[49m\u001b[38;5;28;43mself\u001b[39;49m\u001b[38;5;241;43m.\u001b[39;49m\u001b[43mget_parent\u001b[49m\u001b[43m(\u001b[49m\u001b[38;5;124;43m\"\u001b[39;49m\u001b[38;5;124;43mshell\u001b[39;49m\u001b[38;5;124;43m\"\u001b[39;49m\u001b[43m)\u001b[49m\u001b[43m,\u001b[49m\n\u001b[1;32m   1079\u001b[0m \u001b[43m    \u001b[49m\u001b[43mpassword\u001b[49m\u001b[38;5;241;43m=\u001b[39;49m\u001b[38;5;28;43;01mFalse\u001b[39;49;00m\u001b[43m,\u001b[49m\n\u001b[1;32m   1080\u001b[0m \u001b[43m\u001b[49m\u001b[43m)\u001b[49m\n",
      "File \u001b[0;32m/opt/homebrew/anaconda3/lib/python3.9/site-packages/ipykernel/kernelbase.py:1120\u001b[0m, in \u001b[0;36mKernel._input_request\u001b[0;34m(self, prompt, ident, parent, password)\u001b[0m\n\u001b[1;32m   1117\u001b[0m             \u001b[38;5;28;01mbreak\u001b[39;00m\n\u001b[1;32m   1118\u001b[0m \u001b[38;5;28;01mexcept\u001b[39;00m \u001b[38;5;167;01mKeyboardInterrupt\u001b[39;00m:\n\u001b[1;32m   1119\u001b[0m     \u001b[38;5;66;03m# re-raise KeyboardInterrupt, to truncate traceback\u001b[39;00m\n\u001b[0;32m-> 1120\u001b[0m     \u001b[38;5;28;01mraise\u001b[39;00m \u001b[38;5;167;01mKeyboardInterrupt\u001b[39;00m(\u001b[38;5;124m\"\u001b[39m\u001b[38;5;124mInterrupted by user\u001b[39m\u001b[38;5;124m\"\u001b[39m) \u001b[38;5;28;01mfrom\u001b[39;00m \u001b[38;5;28mNone\u001b[39m\n\u001b[1;32m   1121\u001b[0m \u001b[38;5;28;01mexcept\u001b[39;00m \u001b[38;5;167;01mException\u001b[39;00m:\n\u001b[1;32m   1122\u001b[0m     \u001b[38;5;28mself\u001b[39m\u001b[38;5;241m.\u001b[39mlog\u001b[38;5;241m.\u001b[39mwarning(\u001b[38;5;124m\"\u001b[39m\u001b[38;5;124mInvalid Message:\u001b[39m\u001b[38;5;124m\"\u001b[39m, exc_info\u001b[38;5;241m=\u001b[39m\u001b[38;5;28;01mTrue\u001b[39;00m)\n",
      "\u001b[0;31mKeyboardInterrupt\u001b[0m: Interrupted by user"
     ]
    }
   ],
   "source": [
    "  #iii. Prompt the user for an odd number between 1 and 50. Use a loop and a break statement to continue prompting \n",
    "#the user if they enter invalid input. (Hint: use the isdigit method on strings to determine this). \n",
    "#Use a loop and the continue statement to output all the odd numbers between 1 and 50, \n",
    "# except for the number the user entered. #(string.isdigit())\n",
    "while True:\n",
    "    n = input('Enter an odd number between 1 and 50: ')\n",
    "\n",
    "    if n.isdigit():\n",
    "        num = int(n)\n",
    "    if num % 2 != 0:\n",
    "        for num in range(1, 50):\n",
    "            if num == int(n):\n",
    "                continue\n",
    "            if num % 2 == 0:\n",
    "                continue\n",
    "            else:\n",
    "                print(num)\n",
    "                \n",
    "    if not n.isdigit():\n",
    "        print(\"Not a digit\")\n",
    "        continue\n",
    "    if num % 2 == 0:\n",
    "        print('Even')\n",
    "        continue\n",
    "    else:\n",
    "        break"
   ]
  },
  {
   "cell_type": "code",
   "execution_count": 339,
   "id": "9efa1560",
   "metadata": {},
   "outputs": [
    {
     "name": "stdout",
     "output_type": "stream",
     "text": [
      "1\n",
      "2\n",
      "Fizz\n",
      "4\n",
      "Buzz\n",
      "Fizz\n",
      "7\n",
      "8\n",
      "Fizz\n",
      "Buzz\n",
      "11\n",
      "Fizz\n",
      "13\n",
      "14\n",
      "FizzBuzz\n",
      "16\n",
      "17\n",
      "Fizz\n",
      "19\n",
      "Buzz\n",
      "Fizz\n",
      "22\n",
      "23\n",
      "Fizz\n",
      "Buzz\n",
      "26\n",
      "Fizz\n",
      "28\n",
      "29\n",
      "FizzBuzz\n",
      "31\n",
      "32\n",
      "Fizz\n",
      "34\n",
      "Buzz\n",
      "Fizz\n",
      "37\n",
      "38\n",
      "Fizz\n",
      "Buzz\n",
      "41\n",
      "Fizz\n",
      "43\n",
      "44\n",
      "FizzBuzz\n",
      "46\n",
      "47\n",
      "Fizz\n",
      "49\n",
      "Buzz\n",
      "Fizz\n",
      "52\n",
      "53\n",
      "Fizz\n",
      "Buzz\n",
      "56\n",
      "Fizz\n",
      "58\n",
      "59\n",
      "FizzBuzz\n",
      "61\n",
      "62\n",
      "Fizz\n",
      "64\n",
      "Buzz\n",
      "Fizz\n",
      "67\n",
      "68\n",
      "Fizz\n",
      "Buzz\n",
      "71\n",
      "Fizz\n",
      "73\n",
      "74\n",
      "FizzBuzz\n",
      "76\n",
      "77\n",
      "Fizz\n",
      "79\n",
      "Buzz\n",
      "Fizz\n",
      "82\n",
      "83\n",
      "Fizz\n",
      "Buzz\n",
      "86\n",
      "Fizz\n",
      "88\n",
      "89\n",
      "FizzBuzz\n",
      "91\n",
      "92\n",
      "Fizz\n",
      "94\n",
      "Buzz\n",
      "Fizz\n",
      "97\n",
      "98\n",
      "Fizz\n",
      "Buzz\n"
     ]
    }
   ],
   "source": [
    "#Fizzbuzz\n",
    "#One of the most common interview questions for entry-level programmers is the FizzBuzz test. Developed by Imran Ghory, \n",
    "# the test is designed to test basic looping and conditional logic skills.\n",
    "#Write a program that prints the numbers from 1 to 100.\n",
    "#For multiples of three print \"Fizz\" instead of the number\n",
    "#For the multiples of five print \"Buzz\".\n",
    "#For numbers which are multiples of both three and five print \"FizzBuzz\".\n",
    "for i in range(1, 101):\n",
    "    if i%3 == 0 and i%5 ==0:\n",
    "        print(\"FizzBuzz\")\n",
    "    elif i%3 == 0:\n",
    "        print('Fizz')\n",
    "    elif i%5 == 0:\n",
    "        print(\"Buzz\")\n",
    "    else:\n",
    "        print(i)\n",
    "\n",
    "\n"
   ]
  },
  {
   "cell_type": "code",
   "execution_count": 130,
   "id": "ec52ed65",
   "metadata": {},
   "outputs": [
    {
     "name": "stdout",
     "output_type": "stream",
     "text": [
      "What number would you like to go up to?: 22\n",
      "number squared cubed\n",
      "1 1 1\n",
      "2 4 8\n",
      "3 9 27\n",
      "4 16 64\n",
      "5 25 125\n",
      "6 36 216\n",
      "7 49 343\n",
      "8 64 512\n",
      "9 81 729\n",
      "10 100 1000\n",
      "11 121 1331\n",
      "12 144 1728\n",
      "13 169 2197\n",
      "14 196 2744\n",
      "15 225 3375\n",
      "16 256 4096\n",
      "17 289 4913\n",
      "18 324 5832\n",
      "19 361 6859\n",
      "20 400 8000\n",
      "21 441 9261\n"
     ]
    }
   ],
   "source": [
    "#Display a table of powers. Prompt the user to enter an integer. Display a table of squares and cubes from 1 \n",
    "#to the value entered. Ask if the user wants to continue. Assume that the user will enter valid data.\n",
    "#Only continue if the user agrees to.\n",
    "\n",
    "num = int(input(\"What number would you like to go up to?: \"))\n",
    "print(\"number\", \"squared\", \"cubed\")\n",
    "for i in range(1, num):\n",
    "    print(i ,.i**2, i**3 )\n",
    "\n"
   ]
  },
  {
   "cell_type": "code",
   "execution_count": null,
   "id": "46948aef",
   "metadata": {},
   "outputs": [],
   "source": [
    "range(1,num)"
   ]
  },
  {
   "cell_type": "code",
   "execution_count": null,
   "id": "a81c3048",
   "metadata": {},
   "outputs": [],
   "source": [
    "#5. Convert given number grades into letter grades. \n",
    "#Prompt the user for a numerical grade from 0 to 100.    \n",
    "#Display the corresponding letter grade.\n",
    "#Prompt the user to continue.\n",
    "#Assume that the user will enter valid integers for the grades.\n",
    "#The application should only continue if the user agrees to.\n",
    "#Grade Ranges:\n",
    "\n",
    "    A : 100 - 88\n",
    "    B : 87 - 80\n",
    "    C : 79 - 67\n",
    "    D : 66 - 60\n",
    "    F : 59 - 0\n",
    "\n",
    "\n"
   ]
  },
  {
   "cell_type": "code",
   "execution_count": 132,
   "id": "2f8db3fa",
   "metadata": {},
   "outputs": [
    {
     "name": "stdout",
     "output_type": "stream",
     "text": [
      "Enter your score: 88\n",
      "A\n"
     ]
    }
   ],
   "source": [
    "grade = eval(input('Enter your score: '))\n",
    "\n",
    "if grade>=88:\n",
    "    print('A')\n",
    "elif grade>=80:\n",
    "    print('B')\n",
    "elif grade>=67:\n",
    "    print('C')\n",
    "elif grade>=60:\n",
    "    print('D')\n",
    "else:\n",
    "    print('F')\n"
   ]
  },
  {
   "cell_type": "code",
   "execution_count": null,
   "id": "0ab54e9e",
   "metadata": {},
   "outputs": [],
   "source": [
    "#6. Create a list of dictionaries where each dictionary represents a book that you have read. \n",
    "#Each dictionary in the list should have the keys title, author, and genre. \n",
    "#Loop through the list and print out information about each book."
   ]
  },
  {
   "cell_type": "code",
   "execution_count": 148,
   "id": "042d1ac7",
   "metadata": {},
   "outputs": [
    {
     "name": "stdout",
     "output_type": "stream",
     "text": [
      "{'Title': 'Enchanted April', 'Author': 'E. Von Armin', 'Genre': 'Historical Fiction'}\n",
      "{'Title': 'Fault Among the Stars', 'Author': 'John Green', 'Genre': 'Medical Drama'}\n",
      "{'Title': 'Enchanted April', 'Author': 'E. Von Armin', 'Genre': \"Children's Fiction- Fantasy\"}\n"
     ]
    }
   ],
   "source": [
    "books = [{\n",
    "  \"Title\": \"Enchanted April\",\n",
    "  \"Author\": \"E. Von Armin\",\n",
    "  \"Genre\": \"Historical Fiction\"\n",
    "},\n",
    "{\n",
    "    \"Title\": \"Fault Among the Stars\",\n",
    "    \"Author\": \"John Green\",\n",
    "    \"Genre\": \"Medical Drama\"\n",
    "},\n",
    "{\n",
    "    \"Title\": \"Enchanted April\",\n",
    "    \"Author\": \"E. Von Armin\",\n",
    "    \"Genre\": \"Children's Fiction- Fantasy\"\n",
    "}]\n",
    "\n",
    "for book in books:\n",
    "    print(book)\n",
    "    "
   ]
  },
  {
   "cell_type": "code",
   "execution_count": 149,
   "id": "f60318e3",
   "metadata": {},
   "outputs": [
    {
     "ename": "KeyboardInterrupt",
     "evalue": "Interrupted by user",
     "output_type": "error",
     "traceback": [
      "\u001b[0;31m---------------------------------------------------------------------------\u001b[0m",
      "\u001b[0;31mKeyboardInterrupt\u001b[0m                         Traceback (most recent call last)",
      "Input \u001b[0;32mIn [149]\u001b[0m, in \u001b[0;36m<cell line: 5>\u001b[0;34m()\u001b[0m\n\u001b[1;32m      1\u001b[0m \u001b[38;5;66;03m#Loop through the list and print out information about each book.\u001b[39;00m\n\u001b[1;32m      2\u001b[0m \u001b[38;5;66;03m#a. Prompt the user to enter a genre, then loop through your books list and print out the titles of all the \u001b[39;00m\n\u001b[1;32m      3\u001b[0m \u001b[38;5;66;03m#books in that genre.\u001b[39;00m\n\u001b[0;32m----> 5\u001b[0m Book_picker \u001b[38;5;241m=\u001b[39m \u001b[38;5;28;43minput\u001b[39;49m\u001b[43m(\u001b[49m\u001b[38;5;124;43m'\u001b[39;49m\u001b[38;5;124;43mPick a genre from Historical Fiction, Medical Drama, or Fantasy: \u001b[39;49m\u001b[38;5;124;43m'\u001b[39;49m\u001b[43m)\u001b[49m\n\u001b[1;32m      7\u001b[0m books \u001b[38;5;241m=\u001b[39m [{\n\u001b[1;32m      8\u001b[0m   \u001b[38;5;124m\"\u001b[39m\u001b[38;5;124mTitle\u001b[39m\u001b[38;5;124m\"\u001b[39m: \u001b[38;5;124m\"\u001b[39m\u001b[38;5;124mEnchanted April\u001b[39m\u001b[38;5;124m\"\u001b[39m,\n\u001b[1;32m      9\u001b[0m   \u001b[38;5;124m\"\u001b[39m\u001b[38;5;124mAuthor\u001b[39m\u001b[38;5;124m\"\u001b[39m: \u001b[38;5;124m\"\u001b[39m\u001b[38;5;124mE. Von Armin\u001b[39m\u001b[38;5;124m\"\u001b[39m,\n\u001b[0;32m   (...)\u001b[0m\n\u001b[1;32m     20\u001b[0m     \u001b[38;5;124m\"\u001b[39m\u001b[38;5;124mGenre\u001b[39m\u001b[38;5;124m\"\u001b[39m: \u001b[38;5;124m\"\u001b[39m\u001b[38;5;124mChildren\u001b[39m\u001b[38;5;124m'\u001b[39m\u001b[38;5;124ms Fiction- Fantasy\u001b[39m\u001b[38;5;124m\"\u001b[39m\n\u001b[1;32m     21\u001b[0m }]\n",
      "File \u001b[0;32m/opt/homebrew/anaconda3/lib/python3.9/site-packages/ipykernel/kernelbase.py:1075\u001b[0m, in \u001b[0;36mKernel.raw_input\u001b[0;34m(self, prompt)\u001b[0m\n\u001b[1;32m   1071\u001b[0m \u001b[38;5;28;01mif\u001b[39;00m \u001b[38;5;129;01mnot\u001b[39;00m \u001b[38;5;28mself\u001b[39m\u001b[38;5;241m.\u001b[39m_allow_stdin:\n\u001b[1;32m   1072\u001b[0m     \u001b[38;5;28;01mraise\u001b[39;00m StdinNotImplementedError(\n\u001b[1;32m   1073\u001b[0m         \u001b[38;5;124m\"\u001b[39m\u001b[38;5;124mraw_input was called, but this frontend does not support input requests.\u001b[39m\u001b[38;5;124m\"\u001b[39m\n\u001b[1;32m   1074\u001b[0m     )\n\u001b[0;32m-> 1075\u001b[0m \u001b[38;5;28;01mreturn\u001b[39;00m \u001b[38;5;28;43mself\u001b[39;49m\u001b[38;5;241;43m.\u001b[39;49m\u001b[43m_input_request\u001b[49m\u001b[43m(\u001b[49m\n\u001b[1;32m   1076\u001b[0m \u001b[43m    \u001b[49m\u001b[38;5;28;43mstr\u001b[39;49m\u001b[43m(\u001b[49m\u001b[43mprompt\u001b[49m\u001b[43m)\u001b[49m\u001b[43m,\u001b[49m\n\u001b[1;32m   1077\u001b[0m \u001b[43m    \u001b[49m\u001b[38;5;28;43mself\u001b[39;49m\u001b[38;5;241;43m.\u001b[39;49m\u001b[43m_parent_ident\u001b[49m\u001b[43m[\u001b[49m\u001b[38;5;124;43m\"\u001b[39;49m\u001b[38;5;124;43mshell\u001b[39;49m\u001b[38;5;124;43m\"\u001b[39;49m\u001b[43m]\u001b[49m\u001b[43m,\u001b[49m\n\u001b[1;32m   1078\u001b[0m \u001b[43m    \u001b[49m\u001b[38;5;28;43mself\u001b[39;49m\u001b[38;5;241;43m.\u001b[39;49m\u001b[43mget_parent\u001b[49m\u001b[43m(\u001b[49m\u001b[38;5;124;43m\"\u001b[39;49m\u001b[38;5;124;43mshell\u001b[39;49m\u001b[38;5;124;43m\"\u001b[39;49m\u001b[43m)\u001b[49m\u001b[43m,\u001b[49m\n\u001b[1;32m   1079\u001b[0m \u001b[43m    \u001b[49m\u001b[43mpassword\u001b[49m\u001b[38;5;241;43m=\u001b[39;49m\u001b[38;5;28;43;01mFalse\u001b[39;49;00m\u001b[43m,\u001b[49m\n\u001b[1;32m   1080\u001b[0m \u001b[43m\u001b[49m\u001b[43m)\u001b[49m\n",
      "File \u001b[0;32m/opt/homebrew/anaconda3/lib/python3.9/site-packages/ipykernel/kernelbase.py:1120\u001b[0m, in \u001b[0;36mKernel._input_request\u001b[0;34m(self, prompt, ident, parent, password)\u001b[0m\n\u001b[1;32m   1117\u001b[0m             \u001b[38;5;28;01mbreak\u001b[39;00m\n\u001b[1;32m   1118\u001b[0m \u001b[38;5;28;01mexcept\u001b[39;00m \u001b[38;5;167;01mKeyboardInterrupt\u001b[39;00m:\n\u001b[1;32m   1119\u001b[0m     \u001b[38;5;66;03m# re-raise KeyboardInterrupt, to truncate traceback\u001b[39;00m\n\u001b[0;32m-> 1120\u001b[0m     \u001b[38;5;28;01mraise\u001b[39;00m \u001b[38;5;167;01mKeyboardInterrupt\u001b[39;00m(\u001b[38;5;124m\"\u001b[39m\u001b[38;5;124mInterrupted by user\u001b[39m\u001b[38;5;124m\"\u001b[39m) \u001b[38;5;28;01mfrom\u001b[39;00m \u001b[38;5;28mNone\u001b[39m\n\u001b[1;32m   1121\u001b[0m \u001b[38;5;28;01mexcept\u001b[39;00m \u001b[38;5;167;01mException\u001b[39;00m:\n\u001b[1;32m   1122\u001b[0m     \u001b[38;5;28mself\u001b[39m\u001b[38;5;241m.\u001b[39mlog\u001b[38;5;241m.\u001b[39mwarning(\u001b[38;5;124m\"\u001b[39m\u001b[38;5;124mInvalid Message:\u001b[39m\u001b[38;5;124m\"\u001b[39m, exc_info\u001b[38;5;241m=\u001b[39m\u001b[38;5;28;01mTrue\u001b[39;00m)\n",
      "\u001b[0;31mKeyboardInterrupt\u001b[0m: Interrupted by user"
     ]
    }
   ],
   "source": [
    "#Loop through the list and print out information about each book.\n",
    "#a. Prompt the user to enter a genre, then loop through your books list and print out the titles of all the \n",
    "#books in that genre.\n",
    "\n",
    "Book_picker = input('Pick a genre from Historical Fiction, Medical Drama, or Fantasy: ')\n",
    "\n",
    "books = [{\n",
    "  \"Title\": \"Enchanted April\",\n",
    "  \"Author\": \"E. Von Armin\",\n",
    "  \"Genre\": \"Historical Fiction\"\n",
    "},\n",
    "{\n",
    "    \"Title\": \"Fault Among the Stars\",\n",
    "    \"Author\": \"John Green\",\n",
    "    \"Genre\": \"Medical Drama\"\n",
    "},\n",
    "{\n",
    "    \"Title\": \"Enchanted April\",\n",
    "    \"Author\": \"E. Von Armin\",\n",
    "    \"Genre\": \"Fantasy\"\n",
    "}]\n",
    "\n",
    "print()"
   ]
  },
  {
   "cell_type": "code",
   "execution_count": null,
   "id": "63c1325f",
   "metadata": {},
   "outputs": [],
   "source": []
  },
  {
   "cell_type": "code",
   "execution_count": null,
   "id": "bd059807",
   "metadata": {},
   "outputs": [],
   "source": []
  }
 ],
 "metadata": {
  "kernelspec": {
   "display_name": "Python 3 (ipykernel)",
   "language": "python",
   "name": "python3"
  },
  "language_info": {
   "codemirror_mode": {
    "name": "ipython",
    "version": 3
   },
   "file_extension": ".py",
   "mimetype": "text/x-python",
   "name": "python",
   "nbconvert_exporter": "python",
   "pygments_lexer": "ipython3",
   "version": "3.9.12"
  }
 },
 "nbformat": 4,
 "nbformat_minor": 5
}
